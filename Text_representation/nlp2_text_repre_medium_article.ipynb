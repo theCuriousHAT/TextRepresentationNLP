{
 "cells": [
  {
   "cell_type": "code",
   "execution_count": 1,
   "metadata": {},
   "outputs": [],
   "source": [
    "# !pip install nltk"
   ]
  },
  {
   "cell_type": "code",
   "execution_count": 2,
   "metadata": {},
   "outputs": [],
   "source": [
    "# libraries to display dataframe and images\n",
    "from IPython.display import display\n",
    "from PIL import Image\n",
    "# matplotlib for vizualization\n",
    "import matplotlib.pyplot as plt\n",
    "import seaborn as sns\n",
    "import pandas as pd\n",
    "import numpy as np\n",
    "# inbuild library to work with textual data\n",
    "import string\n",
    "# Setting up the NLTK to pre-processing textual data\n",
    "import nltk\n",
    "from nltk.corpus import stopwords, wordnet\n",
    "from nltk.stem import PorterStemmer, LancasterStemmer, SnowballStemmer, WordNetLemmatizer\n",
    "from nltk.tokenize import word_tokenize, sent_tokenize\n",
    "\n",
    "#Run this for the first time\n",
    "\n",
    "# nltk.download('punkt')\n",
    "# nltk.download('stopwords')\n",
    "# nltk.download('wordnet')\n",
    "# nltk.download('averaged_perceptron_tagger')\n",
    "# nltk.download('tagsets')\n",
    "# nltk.download('universal_tagset')\n",
    "# nltk.download('treebank')"
   ]
  },
  {
   "cell_type": "code",
   "execution_count": 56,
   "metadata": {},
   "outputs": [
    {
     "data": {
      "text/html": [
       "<div>\n",
       "<style scoped>\n",
       "    .dataframe tbody tr th:only-of-type {\n",
       "        vertical-align: middle;\n",
       "    }\n",
       "\n",
       "    .dataframe tbody tr th {\n",
       "        vertical-align: top;\n",
       "    }\n",
       "\n",
       "    .dataframe thead th {\n",
       "        text-align: right;\n",
       "    }\n",
       "</style>\n",
       "<table border=\"1\" class=\"dataframe\">\n",
       "  <thead>\n",
       "    <tr style=\"text-align: right;\">\n",
       "      <th></th>\n",
       "      <th>link</th>\n",
       "      <th>title</th>\n",
       "      <th>sub_title</th>\n",
       "      <th>author</th>\n",
       "      <th>reading_time</th>\n",
       "      <th>text</th>\n",
       "      <th>id</th>\n",
       "    </tr>\n",
       "  </thead>\n",
       "  <tbody>\n",
       "    <tr>\n",
       "      <th>0</th>\n",
       "      <td>https://towardsdatascience.com/ensemble-method...</td>\n",
       "      <td>Ensemble methods: bagging, boosting and stacking</td>\n",
       "      <td>Understanding the key concepts of ensemble lea...</td>\n",
       "      <td>Joseph Rocca</td>\n",
       "      <td>20</td>\n",
       "      <td>This post was co-written with Baptiste Rocca.\\...</td>\n",
       "      <td>1</td>\n",
       "    </tr>\n",
       "    <tr>\n",
       "      <th>1</th>\n",
       "      <td>https://towardsdatascience.com/understanding-a...</td>\n",
       "      <td>Understanding AUC - ROC Curve</td>\n",
       "      <td>In Machine Learning, performance measurement i...</td>\n",
       "      <td>Sarang Narkhede</td>\n",
       "      <td>5</td>\n",
       "      <td>In Machine Learning, performance measurement i...</td>\n",
       "      <td>2</td>\n",
       "    </tr>\n",
       "    <tr>\n",
       "      <th>2</th>\n",
       "      <td>https://towardsdatascience.com/how-to-work-wit...</td>\n",
       "      <td>How to work with object detection datasets in ...</td>\n",
       "      <td>A comprehensive guide to defining, loading, ex...</td>\n",
       "      <td>Eric Hofesmann</td>\n",
       "      <td>10</td>\n",
       "      <td>Microsoft's Common Objects in Context dataset ...</td>\n",
       "      <td>3</td>\n",
       "    </tr>\n",
       "    <tr>\n",
       "      <th>3</th>\n",
       "      <td>https://towardsdatascience.com/11-dimensionali...</td>\n",
       "      <td>11 Dimensionality reduction techniques you sho...</td>\n",
       "      <td>Reduce the size of your dataset while keeping ...</td>\n",
       "      <td>Rukshan Pramoditha</td>\n",
       "      <td>16</td>\n",
       "      <td>In both Statistics and Machine Learning, the n...</td>\n",
       "      <td>4</td>\n",
       "    </tr>\n",
       "    <tr>\n",
       "      <th>4</th>\n",
       "      <td>https://towardsdatascience.com/the-time-series...</td>\n",
       "      <td>The Time Series Transformer</td>\n",
       "      <td>Attention Is All You Need they said. Is it a m...</td>\n",
       "      <td>Theodoros Ntakouris</td>\n",
       "      <td>6</td>\n",
       "      <td>Attention Is All You Need they said. Is it a m...</td>\n",
       "      <td>5</td>\n",
       "    </tr>\n",
       "    <tr>\n",
       "      <th>5</th>\n",
       "      <td>https://netflixtechblog.com/learning-a-persona...</td>\n",
       "      <td>Learning a Personalized Homepage</td>\n",
       "      <td>how to best tailor each member's homepage to m...</td>\n",
       "      <td>Netflix Technology Blog</td>\n",
       "      <td>15</td>\n",
       "      <td>by Chris Alvino and Justin Basilico\\nAs we've ...</td>\n",
       "      <td>6</td>\n",
       "    </tr>\n",
       "    <tr>\n",
       "      <th>6</th>\n",
       "      <td>https://towardsdatascience.com/6-data-science-...</td>\n",
       "      <td>6 Data Science Certificates To Level Up Your C...</td>\n",
       "      <td>Pump up your portfolio and get closer to your ...</td>\n",
       "      <td>Sara A. Metwalli</td>\n",
       "      <td>6</td>\n",
       "      <td>Because of the appeal of the field of data sci...</td>\n",
       "      <td>7</td>\n",
       "    </tr>\n",
       "    <tr>\n",
       "      <th>7</th>\n",
       "      <td>https://towardsdatascience.com/transformers-ex...</td>\n",
       "      <td>Transformers Explained Visually (Part 2): How ...</td>\n",
       "      <td>A Gentle Guide to the Transformer under the ho...</td>\n",
       "      <td>Ketan Doshi</td>\n",
       "      <td>11</td>\n",
       "      <td>This is the second article in my series on Tra...</td>\n",
       "      <td>8</td>\n",
       "    </tr>\n",
       "    <tr>\n",
       "      <th>8</th>\n",
       "      <td>https://medium.com/coders-camp/60-python-proje...</td>\n",
       "      <td>60 Python Projects with Source Code</td>\n",
       "      <td>60 Python Projects with Source code solved and...</td>\n",
       "      <td>Aman Kharwal</td>\n",
       "      <td>2</td>\n",
       "      <td>Python has been in the top 10 popular programm...</td>\n",
       "      <td>9</td>\n",
       "    </tr>\n",
       "    <tr>\n",
       "      <th>9</th>\n",
       "      <td>https://towardsdatascience.com/geometric-found...</td>\n",
       "      <td>Geometric foundations of Deep Learning</td>\n",
       "      <td>Geometric Deep Learning is an attempt to unify...</td>\n",
       "      <td>Michael Bronstein</td>\n",
       "      <td>13</td>\n",
       "      <td>This blog post was co-authored with Joan Bruna...</td>\n",
       "      <td>10</td>\n",
       "    </tr>\n",
       "  </tbody>\n",
       "</table>\n",
       "</div>"
      ],
      "text/plain": [
       "                                                link  \\\n",
       "0  https://towardsdatascience.com/ensemble-method...   \n",
       "1  https://towardsdatascience.com/understanding-a...   \n",
       "2  https://towardsdatascience.com/how-to-work-wit...   \n",
       "3  https://towardsdatascience.com/11-dimensionali...   \n",
       "4  https://towardsdatascience.com/the-time-series...   \n",
       "5  https://netflixtechblog.com/learning-a-persona...   \n",
       "6  https://towardsdatascience.com/6-data-science-...   \n",
       "7  https://towardsdatascience.com/transformers-ex...   \n",
       "8  https://medium.com/coders-camp/60-python-proje...   \n",
       "9  https://towardsdatascience.com/geometric-found...   \n",
       "\n",
       "                                               title  \\\n",
       "0   Ensemble methods: bagging, boosting and stacking   \n",
       "1                      Understanding AUC - ROC Curve   \n",
       "2  How to work with object detection datasets in ...   \n",
       "3  11 Dimensionality reduction techniques you sho...   \n",
       "4                        The Time Series Transformer   \n",
       "5                   Learning a Personalized Homepage   \n",
       "6  6 Data Science Certificates To Level Up Your C...   \n",
       "7  Transformers Explained Visually (Part 2): How ...   \n",
       "8                60 Python Projects with Source Code   \n",
       "9             Geometric foundations of Deep Learning   \n",
       "\n",
       "                                           sub_title                   author  \\\n",
       "0  Understanding the key concepts of ensemble lea...             Joseph Rocca   \n",
       "1  In Machine Learning, performance measurement i...          Sarang Narkhede   \n",
       "2  A comprehensive guide to defining, loading, ex...           Eric Hofesmann   \n",
       "3  Reduce the size of your dataset while keeping ...       Rukshan Pramoditha   \n",
       "4  Attention Is All You Need they said. Is it a m...      Theodoros Ntakouris   \n",
       "5  how to best tailor each member's homepage to m...  Netflix Technology Blog   \n",
       "6  Pump up your portfolio and get closer to your ...         Sara A. Metwalli   \n",
       "7  A Gentle Guide to the Transformer under the ho...              Ketan Doshi   \n",
       "8  60 Python Projects with Source code solved and...             Aman Kharwal   \n",
       "9  Geometric Deep Learning is an attempt to unify...        Michael Bronstein   \n",
       "\n",
       "   reading_time                                               text  id  \n",
       "0            20  This post was co-written with Baptiste Rocca.\\...   1  \n",
       "1             5  In Machine Learning, performance measurement i...   2  \n",
       "2            10  Microsoft's Common Objects in Context dataset ...   3  \n",
       "3            16  In both Statistics and Machine Learning, the n...   4  \n",
       "4             6  Attention Is All You Need they said. Is it a m...   5  \n",
       "5            15  by Chris Alvino and Justin Basilico\\nAs we've ...   6  \n",
       "6             6  Because of the appeal of the field of data sci...   7  \n",
       "7            11  This is the second article in my series on Tra...   8  \n",
       "8             2  Python has been in the top 10 popular programm...   9  \n",
       "9            13  This blog post was co-authored with Joan Bruna...  10  "
      ]
     },
     "metadata": {},
     "output_type": "display_data"
    },
    {
     "name": "stdout",
     "output_type": "stream",
     "text": [
      "Shape of dataframe : (208, 7)\n"
     ]
    }
   ],
   "source": [
    "import numpy as np\n",
    "import pandas as pd\n",
    "import spacy\n",
    "from spacy import displacy\n",
    "\n",
    "# reading the csv data file\n",
    "articles = pd.read_csv(\"data/medium_articles_v3.csv\")\n",
    "display(articles.head(10))\n",
    "print(\"Shape of dataframe : {}\".format(articles.shape))"
   ]
  },
  {
   "cell_type": "code",
   "execution_count": 5,
   "metadata": {},
   "outputs": [
    {
     "data": {
      "text/html": [
       "<div>\n",
       "<style scoped>\n",
       "    .dataframe tbody tr th:only-of-type {\n",
       "        vertical-align: middle;\n",
       "    }\n",
       "\n",
       "    .dataframe tbody tr th {\n",
       "        vertical-align: top;\n",
       "    }\n",
       "\n",
       "    .dataframe thead th {\n",
       "        text-align: right;\n",
       "    }\n",
       "</style>\n",
       "<table border=\"1\" class=\"dataframe\">\n",
       "  <thead>\n",
       "    <tr style=\"text-align: right;\">\n",
       "      <th></th>\n",
       "      <th>link</th>\n",
       "      <th>title</th>\n",
       "      <th>sub_title</th>\n",
       "      <th>author</th>\n",
       "      <th>reading_time</th>\n",
       "      <th>text</th>\n",
       "      <th>id</th>\n",
       "    </tr>\n",
       "  </thead>\n",
       "  <tbody>\n",
       "    <tr>\n",
       "      <th>count</th>\n",
       "      <td>208</td>\n",
       "      <td>208</td>\n",
       "      <td>208</td>\n",
       "      <td>208</td>\n",
       "      <td>208.000000</td>\n",
       "      <td>208</td>\n",
       "      <td>208.000000</td>\n",
       "    </tr>\n",
       "    <tr>\n",
       "      <th>unique</th>\n",
       "      <td>208</td>\n",
       "      <td>208</td>\n",
       "      <td>204</td>\n",
       "      <td>179</td>\n",
       "      <td>NaN</td>\n",
       "      <td>208</td>\n",
       "      <td>NaN</td>\n",
       "    </tr>\n",
       "    <tr>\n",
       "      <th>top</th>\n",
       "      <td>https://towardsdatascience.com/ensemble-method...</td>\n",
       "      <td>Ensemble methods: bagging, boosting and stacking</td>\n",
       "      <td>Update: This article is part of a series. Chec...</td>\n",
       "      <td>Adam Geitgey</td>\n",
       "      <td>NaN</td>\n",
       "      <td>This post was co-written with Baptiste Rocca.\\...</td>\n",
       "      <td>NaN</td>\n",
       "    </tr>\n",
       "    <tr>\n",
       "      <th>freq</th>\n",
       "      <td>1</td>\n",
       "      <td>1</td>\n",
       "      <td>4</td>\n",
       "      <td>5</td>\n",
       "      <td>NaN</td>\n",
       "      <td>1</td>\n",
       "      <td>NaN</td>\n",
       "    </tr>\n",
       "    <tr>\n",
       "      <th>mean</th>\n",
       "      <td>NaN</td>\n",
       "      <td>NaN</td>\n",
       "      <td>NaN</td>\n",
       "      <td>NaN</td>\n",
       "      <td>12.375000</td>\n",
       "      <td>NaN</td>\n",
       "      <td>107.091346</td>\n",
       "    </tr>\n",
       "    <tr>\n",
       "      <th>std</th>\n",
       "      <td>NaN</td>\n",
       "      <td>NaN</td>\n",
       "      <td>NaN</td>\n",
       "      <td>NaN</td>\n",
       "      <td>13.880224</td>\n",
       "      <td>NaN</td>\n",
       "      <td>62.575453</td>\n",
       "    </tr>\n",
       "    <tr>\n",
       "      <th>min</th>\n",
       "      <td>NaN</td>\n",
       "      <td>NaN</td>\n",
       "      <td>NaN</td>\n",
       "      <td>NaN</td>\n",
       "      <td>2.000000</td>\n",
       "      <td>NaN</td>\n",
       "      <td>1.000000</td>\n",
       "    </tr>\n",
       "    <tr>\n",
       "      <th>25%</th>\n",
       "      <td>NaN</td>\n",
       "      <td>NaN</td>\n",
       "      <td>NaN</td>\n",
       "      <td>NaN</td>\n",
       "      <td>6.000000</td>\n",
       "      <td>NaN</td>\n",
       "      <td>52.750000</td>\n",
       "    </tr>\n",
       "    <tr>\n",
       "      <th>50%</th>\n",
       "      <td>NaN</td>\n",
       "      <td>NaN</td>\n",
       "      <td>NaN</td>\n",
       "      <td>NaN</td>\n",
       "      <td>9.000000</td>\n",
       "      <td>NaN</td>\n",
       "      <td>107.500000</td>\n",
       "    </tr>\n",
       "    <tr>\n",
       "      <th>75%</th>\n",
       "      <td>NaN</td>\n",
       "      <td>NaN</td>\n",
       "      <td>NaN</td>\n",
       "      <td>NaN</td>\n",
       "      <td>13.000000</td>\n",
       "      <td>NaN</td>\n",
       "      <td>162.250000</td>\n",
       "    </tr>\n",
       "    <tr>\n",
       "      <th>max</th>\n",
       "      <td>NaN</td>\n",
       "      <td>NaN</td>\n",
       "      <td>NaN</td>\n",
       "      <td>NaN</td>\n",
       "      <td>149.000000</td>\n",
       "      <td>NaN</td>\n",
       "      <td>214.000000</td>\n",
       "    </tr>\n",
       "  </tbody>\n",
       "</table>\n",
       "</div>"
      ],
      "text/plain": [
       "                                                     link  \\\n",
       "count                                                 208   \n",
       "unique                                                208   \n",
       "top     https://towardsdatascience.com/ensemble-method...   \n",
       "freq                                                    1   \n",
       "mean                                                  NaN   \n",
       "std                                                   NaN   \n",
       "min                                                   NaN   \n",
       "25%                                                   NaN   \n",
       "50%                                                   NaN   \n",
       "75%                                                   NaN   \n",
       "max                                                   NaN   \n",
       "\n",
       "                                                   title  \\\n",
       "count                                                208   \n",
       "unique                                               208   \n",
       "top     Ensemble methods: bagging, boosting and stacking   \n",
       "freq                                                   1   \n",
       "mean                                                 NaN   \n",
       "std                                                  NaN   \n",
       "min                                                  NaN   \n",
       "25%                                                  NaN   \n",
       "50%                                                  NaN   \n",
       "75%                                                  NaN   \n",
       "max                                                  NaN   \n",
       "\n",
       "                                                sub_title        author  \\\n",
       "count                                                 208           208   \n",
       "unique                                                204           179   \n",
       "top     Update: This article is part of a series. Chec...  Adam Geitgey   \n",
       "freq                                                    4             5   \n",
       "mean                                                  NaN           NaN   \n",
       "std                                                   NaN           NaN   \n",
       "min                                                   NaN           NaN   \n",
       "25%                                                   NaN           NaN   \n",
       "50%                                                   NaN           NaN   \n",
       "75%                                                   NaN           NaN   \n",
       "max                                                   NaN           NaN   \n",
       "\n",
       "        reading_time                                               text  \\\n",
       "count     208.000000                                                208   \n",
       "unique           NaN                                                208   \n",
       "top              NaN  This post was co-written with Baptiste Rocca.\\...   \n",
       "freq             NaN                                                  1   \n",
       "mean       12.375000                                                NaN   \n",
       "std        13.880224                                                NaN   \n",
       "min         2.000000                                                NaN   \n",
       "25%         6.000000                                                NaN   \n",
       "50%         9.000000                                                NaN   \n",
       "75%        13.000000                                                NaN   \n",
       "max       149.000000                                                NaN   \n",
       "\n",
       "                id  \n",
       "count   208.000000  \n",
       "unique         NaN  \n",
       "top            NaN  \n",
       "freq           NaN  \n",
       "mean    107.091346  \n",
       "std      62.575453  \n",
       "min       1.000000  \n",
       "25%      52.750000  \n",
       "50%     107.500000  \n",
       "75%     162.250000  \n",
       "max     214.000000  "
      ]
     },
     "execution_count": 5,
     "metadata": {},
     "output_type": "execute_result"
    }
   ],
   "source": [
    "articles.describe(include='all')"
   ]
  },
  {
   "cell_type": "code",
   "execution_count": 6,
   "metadata": {},
   "outputs": [
    {
     "data": {
      "image/png": "[encoded data removed]",
      "text/plain": [
       "<Figure size 800x600 with 1 Axes>"
      ]
     },
     "metadata": {},
     "output_type": "display_data"
    }
   ],
   "source": [
    "# ditsribution of reading times in our corpus\n",
    "fig, axes = plt.subplots(figsize = (8, 6))\n",
    "# creating histograms\n",
    "sns.histplot(articles[\"reading_time\"], kde=True, ax = axes)\n",
    "# Computing percentile of the reading_time data.\n",
    "first_q = np.percentile(articles[\"reading_time\"], 25)\n",
    "# Computing median (50th percentile) of the reading_time data.\n",
    "second_q = np.percentile(articles[\"reading_time\"], 50)\n",
    "third_q = np.percentile(articles[\"reading_time\"], 75)\n",
    "# green lines for 25th and 75th percentile\n",
    "plt.axvline(first_q, color = \"green\")\n",
    "# red line for median reading_time\n",
    "plt.axvline(second_q, color = \"red\")\n",
    "plt.axvline(third_q, color = \"green\")\n",
    "# plot title\n",
    "plt.suptitle(\"Distribution of reading time across articles\")\n",
    "plt.show()"
   ]
  },
  {
   "cell_type": "markdown",
   "metadata": {},
   "source": [
    "* Graph is clearly right skewed.\n",
    "* Most of the articles have less reading time, with some having reading time in hours.\n",
    "* The median reading time is 9 minutes."
   ]
  },
  {
   "cell_type": "markdown",
   "metadata": {},
   "source": [
    "**How does the reading time related with the article length?**"
   ]
  },
  {
   "cell_type": "code",
   "execution_count": 7,
   "metadata": {},
   "outputs": [
    {
     "data": {
      "image/png": "[encoded data removed]",
      "text/plain": [
       "<Figure size 800x600 with 1 Axes>"
      ]
     },
     "metadata": {},
     "output_type": "display_data"
    }
   ],
   "source": [
    "from scipy.stats import pearsonr\n",
    "\n",
    "articles[\"article_len\"] = articles[\"text\"].apply(lambda x : len(x))\n",
    "# creating scatterplot\n",
    "fig, axes = plt.subplots(figsize = (8, 6))\n",
    "sns.scatterplot(x = articles[\"reading_time\"], y = articles[\"article_len\"])\n",
    "# Pearson correlation coefficient measures the linear relationship between two set of values.\n",
    "corr_coeff, _ = pearsonr(articles[\"reading_time\"], articles[\"article_len\"])\n",
    "# plot title\n",
    "plt.suptitle(\"Reading Time vs. Article Length | Corr. Coeff  : {}\".format(round(corr_coeff, 2)))\n",
    "plt.show()"
   ]
  },
  {
   "cell_type": "markdown",
   "metadata": {},
   "source": [
    "Reading time and article length is correlated."
   ]
  },
  {
   "cell_type": "markdown",
   "metadata": {},
   "source": [
    "**Do writers usually writes articles on the similar topics?**"
   ]
  },
  {
   "cell_type": "code",
   "execution_count": 8,
   "metadata": {},
   "outputs": [
    {
     "name": "stdout",
     "output_type": "stream",
     "text": [
      "Articles by Adam Geitgey :\n",
      "Machine Learning is Fun Part 5: Language Translation with Deep Learning and the Magic of Sequences\n",
      "Machine Learning is Fun! Part 4: Modern Face Recognition with Deep Learning\n",
      "Machine Learning is Fun! Part 3: Deep Learning and Convolutional Neural Networks\n",
      "Machine Learning is Fun! Part 2\n",
      "Machine Learning is Fun Part 6: How to do Speech Recognition with Deep Learning\n",
      "----------------------------------------------------------------------------------------------------------------------------------------------------------------------------------------------------------------------------------------------------------------------------------------\n",
      "Articles by Joseph Rocca :\n",
      "Ensemble methods: bagging, boosting and stacking\n",
      "Understanding Variational Autoencoders (VAEs)\n",
      "Understanding Generative Adversarial Networks (GANs)\n",
      "----------------------------------------------------------------------------------------------------------------------------------------------------------------------------------------------------------------------------------------------------------------------------------------\n",
      "Articles by Natassha Selvaraj :\n",
      "I tripled my income with data science. Here's how.\n",
      "How to Land a Data Analytics Job in 6 Months\n",
      "Top 10 Data Science Projects for Beginners\n",
      "----------------------------------------------------------------------------------------------------------------------------------------------------------------------------------------------------------------------------------------------------------------------------------------\n",
      "Articles by Chris Zaire :\n",
      "5 Online Courses I Took as a Self-Taught Data Scientist\n",
      "Is Data Science Still a Rising Career in 2021\n",
      "----------------------------------------------------------------------------------------------------------------------------------------------------------------------------------------------------------------------------------------------------------------------------------------\n",
      "Articles by Dario Radecic :\n",
      "Are The New M1 Macbooks Any Good for Data Science? Let's Find Out\n",
      "Top 3 Reasons Why I Sold My M1 Macbook Pro as a Data Scientist\n",
      "----------------------------------------------------------------------------------------------------------------------------------------------------------------------------------------------------------------------------------------------------------------------------------------\n",
      "Articles by Adi Bronshtein :\n",
      "Simple and Multiple Linear Regression in Python\n",
      "Train/Test Split and Cross Validation in Python\n",
      "----------------------------------------------------------------------------------------------------------------------------------------------------------------------------------------------------------------------------------------------------------------------------------------\n",
      "Articles by Serge Faguet :\n",
      "How to biohack your intelligence  with everything from sex to modafinil to MDMA\n",
      "I'm 32 and spent $200k on biohacking. Became calmer, thinner, extroverted, healthier & happier.\n",
      "----------------------------------------------------------------------------------------------------------------------------------------------------------------------------------------------------------------------------------------------------------------------------------------\n",
      "Articles by Will Koehrsen :\n",
      "Hyperparameter Tuning the Random Forest in Python\n",
      "Random Forest in Python\n",
      "----------------------------------------------------------------------------------------------------------------------------------------------------------------------------------------------------------------------------------------------------------------------------------------\n",
      "Articles by Madison Hunter :\n",
      "15 Habits I Learned from Highly Effective Data Scientists\n",
      "How to Study for the Google Data Analytics Professional Certificate\n",
      "----------------------------------------------------------------------------------------------------------------------------------------------------------------------------------------------------------------------------------------------------------------------------------------\n",
      "Articles by Andrei Tapalaga  :\n",
      "Chernobyl's Blown Up Reactor 4 Just Woke Up\n",
      "Eben Byers: The Man Who Drank Radioactive Water Until His Jaw Fell Off\n",
      "----------------------------------------------------------------------------------------------------------------------------------------------------------------------------------------------------------------------------------------------------------------------------------------\n",
      "Articles by Susan Li :\n",
      "Building A Logistic Regression in Python, Step by Step\n",
      "An End-to-End Project on Time Series Analysis and Forecasting with Python\n",
      "----------------------------------------------------------------------------------------------------------------------------------------------------------------------------------------------------------------------------------------------------------------------------------------\n",
      "Articles by Yueh :\n",
      "Richart + @GoGo \n",
      "2018  & : KOKO COMBO icash \n",
      "----------------------------------------------------------------------------------------------------------------------------------------------------------------------------------------------------------------------------------------------------------------------------------------\n",
      "Articles by Daniel Jeffries :\n",
      "How to Crush the Crypto Market, Quit Your Job, Move to Paradise and Do Whatever You Want the Rest of Your Life\n",
      "Why People Still Don't Get Cryptocurrency\n",
      "----------------------------------------------------------------------------------------------------------------------------------------------------------------------------------------------------------------------------------------------------------------------------------------\n",
      "Articles by allen farrington :\n",
      "Bitcoin Is Venice\n",
      "Gauge Theory Does Not Fix This\n",
      "----------------------------------------------------------------------------------------------------------------------------------------------------------------------------------------------------------------------------------------------------------------------------------------\n",
      "Articles by Alexandr Nellson :\n",
      "How to invest in Bitcoin properly. Blockchain and other cryptocurrencies\n",
      "How to store Bitcoins and other cryptocurrencies properly.\n",
      "----------------------------------------------------------------------------------------------------------------------------------------------------------------------------------------------------------------------------------------------------------------------------------------\n",
      "Articles by Mercatus Center :\n",
      "Nassim Nicholas Taleb on Self-Education and Doing the Math (Ep. 41  Live at Mercatus)\n",
      "Cliff Asness on Marvel vs. DC and Why Never to Share a Gym with Cirque du Soleil (Ep. 5  Live at Mason)\n",
      "----------------------------------------------------------------------------------------------------------------------------------------------------------------------------------------------------------------------------------------------------------------------------------------\n",
      "Articles by Blake Ross :\n",
      "Wealthfront:Silicon Valley Tech at Wall Street Prices\n",
      "Heroes Give, Superheroes Borrow\n",
      "----------------------------------------------------------------------------------------------------------------------------------------------------------------------------------------------------------------------------------------------------------------------------------------\n",
      "Articles by Tomas Pueyo :\n",
      "Coronavirus: Why You Must Act Now\n",
      "Coronavirus: The Hammer and the Dance\n",
      "----------------------------------------------------------------------------------------------------------------------------------------------------------------------------------------------------------------------------------------------------------------------------------------\n",
      "Articles by Terence Shin :\n",
      "OVER 100 Data Scientist Interview Questions and Answers!\n",
      "50+ Statistics Interview Questions and Answers for Data Scientists for 2022\n",
      "----------------------------------------------------------------------------------------------------------------------------------------------------------------------------------------------------------------------------------------------------------------------------------------\n",
      "Articles by Rukshan Pramoditha :\n",
      "11 Dimensionality reduction techniques you should know in 2021\n",
      "20 Necessary Requirements of a Perfect Laptop for Data Science and Machine Learning Tasks\n",
      "----------------------------------------------------------------------------------------------------------------------------------------------------------------------------------------------------------------------------------------------------------------------------------------\n",
      "Articles by Ketan Doshi :\n",
      "Transformers Explained Visually (Part 2): How it works, step-by-step\n",
      "Transformers Explained Visually (Part 3): Multi-head Attention, deep dive\n",
      "----------------------------------------------------------------------------------------------------------------------------------------------------------------------------------------------------------------------------------------------------------------------------------------\n",
      "Articles by Aman Kharwal :\n",
      "60 Python Projects with Source Code\n",
      "180 Data Science and Machine Learning Projects with Python\n",
      "----------------------------------------------------------------------------------------------------------------------------------------------------------------------------------------------------------------------------------------------------------------------------------------\n",
      "Articles by Mahmoud Harmouch :\n",
      "17 Clustering Algorithms Used In Data Science and Mining\n",
      "17 types of similarity and dissimilarity measures used in data science.\n",
      "----------------------------------------------------------------------------------------------------------------------------------------------------------------------------------------------------------------------------------------------------------------------------------------\n",
      "Articles by Sara A. Metwalli :\n",
      "6 Data Science Certificates To Level Up Your Career\n",
      "6 Machine Learning Certificates to Pursue in 2021\n",
      "----------------------------------------------------------------------------------------------------------------------------------------------------------------------------------------------------------------------------------------------------------------------------------------\n"
     ]
    }
   ],
   "source": [
    "for author, count in dict(articles['author'].value_counts()).items():\n",
    "    if (count<2):\n",
    "        continue\n",
    "    print(\"Articles by {} :\".format(author))\n",
    "    for title in articles[articles['author']==author]['title'].values:\n",
    "        print(title)\n",
    "    print(\"--\"*140)"
   ]
  },
  {
   "cell_type": "markdown",
   "metadata": {},
   "source": [
    "* In the data that we have, it does seem that authors tend to write multiple articles on the same topic.\n",
    "* And there are multiple authors writing on the same topic."
   ]
  },
  {
   "cell_type": "markdown",
   "metadata": {},
   "source": [
    "**DATA PREPROCESSING - TEXT**"
   ]
  },
  {
   "cell_type": "markdown",
   "metadata": {},
   "source": [
    "Contractions : These are the shortened word of english words or phrases.\n",
    "Issues : Computer does not understand these type of special characters. \n",
    "Solution : Contractions are required to be expanded, so that there meaning can be interpreted by the computer.\n",
    "How? : There are couple of ways to achieve it, \n",
    "1. To create a mapping of contractions and there corresponding expansions.\n",
    "2. To use modules/repos for achieving the same."
   ]
  },
  {
   "cell_type": "code",
   "execution_count": 9,
   "metadata": {},
   "outputs": [
    {
     "name": "stdout",
     "output_type": "stream",
     "text": [
      "\n",
      "I have decided to go to the party after all. I will reach by 05:00 PM.\n",
      "He is not coming with us.\n",
      "It is his birthday and he has other plans.\n",
      "They have thought about going to the movies.\n",
      "I wo not be going to movies.\n",
      "\n"
     ]
    }
   ],
   "source": [
    "import re\n",
    "# creating custom mapping\n",
    "custom_mapping = {\n",
    "    \"n't\" : \" not\",\n",
    "    \"'re\" : \" are\",\n",
    "    \"'ve\" : \" have\",\n",
    "    \"'ll\" : \" will\",\n",
    "    \"'m\" : \" am\",\n",
    "    \"'s\" : \" is\"\n",
    "}\n",
    "# sample data\n",
    "sample_text = \"\"\"\n",
    "I've decided to go to the party after all. I'll reach by 05:00 PM.\n",
    "He's not coming with us.\n",
    "It's his birthday and he has other plans.\n",
    "They've thought about going to the movies.\n",
    "I won't be going to movies.\n",
    "\"\"\"\n",
    "expanded_text = sample_text\n",
    "for x in custom_mapping.keys():\n",
    "    expanded_text = re.sub(x, custom_mapping[x], expanded_text)\n",
    "\n",
    "print(expanded_text)"
   ]
  },
  {
   "cell_type": "code",
   "execution_count": 10,
   "metadata": {},
   "outputs": [],
   "source": [
    "# Approach 2\n",
    "# !pip install contractions"
   ]
  },
  {
   "cell_type": "code",
   "execution_count": 11,
   "metadata": {},
   "outputs": [
    {
     "name": "stdout",
     "output_type": "stream",
     "text": [
      "\n",
      "I have decided to go to the party after all. I will reach by 05:00 PM.\n",
      "He is not coming with us.\n",
      "It is his birthday and he has other plans.\n",
      "They have thought about going to the movies.\n",
      "I will not be going to movies.\n",
      "\n"
     ]
    }
   ],
   "source": [
    "import contractions\n",
    "\n",
    "expanded_text = contractions.fix(sample_text)\n",
    "print(expanded_text)"
   ]
  },
  {
   "cell_type": "markdown",
   "metadata": {},
   "source": [
    "**How do we represent text as numbers?**"
   ]
  },
  {
   "cell_type": "markdown",
   "metadata": {},
   "source": [
    "**One hot encoding** -> A vocabulary is created which is simply a set of all the unique words in the documents. Then each word in the document would be represented against the vocabulary as 0 and 1."
   ]
  },
  {
   "cell_type": "code",
   "execution_count": 12,
   "metadata": {},
   "outputs": [
    {
     "name": "stdout",
     "output_type": "stream",
     "text": [
      "[[0. 0. 1. 0. 0.]\n",
      " [0. 0. 0. 0. 1.]\n",
      " [1. 0. 0. 0. 0.]\n",
      " [0. 1. 0. 0. 0.]\n",
      " [0. 0. 0. 1. 0.]\n",
      " [0. 0. 0. 0. 1.]\n",
      " [1. 0. 0. 0. 0.]]\n"
     ]
    }
   ],
   "source": [
    "from sklearn.preprocessing import OneHotEncoder\n",
    "import itertools\n",
    "# two example documents\n",
    "docs = [\"cat\",\"dog\",\"bat\",\"ate\",\"lion\",\"dog\",\"bat\"]\n",
    "# split documents to tokens\n",
    "tokens_docs = [doc.split(\" \") for doc in docs]\n",
    "# convert list of of token-lists to one flat list of tokens\n",
    "# and then create a dictionary that maps word to id of word,\n",
    "all_tokens = itertools.chain.from_iterable(tokens_docs)\n",
    "word_to_id = {token: idx for idx, token in enumerate(set(all_tokens))}\n",
    "# convert token lists to token-id lists\n",
    "token_ids = [[word_to_id[token] for token in tokens_doc] for tokens_doc in tokens_docs]\n",
    "# convert list of token-id lists to one-hot representation\n",
    "vec = OneHotEncoder(categories=\"auto\")\n",
    "X = vec.fit_transform(token_ids)\n",
    "print(X.toarray())"
   ]
  },
  {
   "cell_type": "markdown",
   "metadata": {},
   "source": [
    "Well, One hot encoding is one way of representing the text into numbers. But it is not the ideal way, and it has its own drawbacks.\n",
    "1. **Can not measure the importance of a word** in the sentence. Only understand the mere presence/absence of word in a sentence.\n",
    "2. **High dimensional sparse matrix representation** can be memory & computationally expensive.\n",
    "3. **Explosion of feature space** if the number of categories are high.\n",
    "4. The vector representation of words is orthogonal and cannot determine or measure the relationship between different words.\n"
   ]
  },
  {
   "cell_type": "markdown",
   "metadata": {},
   "source": [
    "**Approach 2** : Bag of words (BOW)\n",
    "\n",
    "Put words in a bag and computers the frequency of occurences if each word.\n"
   ]
  },
  {
   "cell_type": "markdown",
   "metadata": {},
   "source": [
    "Step 1 : Create a vocabulary from the corpus. For ex. lets consider the three text below:\n",
    "\n",
    "1. It was the best of times\n",
    "2. It was the worst of times\n",
    "3. It was the age of wisdom and the age of foolishness\n",
    "\n",
    "Vocab for the same would be ;\n",
    "\n",
    "* it \n",
    "* was\n",
    "* the\n",
    "* best\n",
    "* of \n",
    "* times\n",
    "* worst\n",
    "* age\n",
    "* wisdom\n",
    "* and\n",
    "* foolishness"
   ]
  },
  {
   "cell_type": "code",
   "execution_count": 13,
   "metadata": {},
   "outputs": [],
   "source": [
    "# !pip install nltk==3.8.1"
   ]
  },
  {
   "cell_type": "code",
   "execution_count": 14,
   "metadata": {},
   "outputs": [],
   "source": [
    "corpus = [\n",
    "    \"it was the best of times\",\n",
    "    \"it was the worst of times\",\n",
    "    \"it was the age of wisdom and the age of foolishness\"\n",
    "]\n",
    "\n",
    "def get_bow_representation(corpus, frequency = True):\n",
    "    vocabulary = set([x for x in \" \".join(corpus).lower().split(\" \")])\n",
    "\n",
    "    bow_rep = []\n",
    "    for sentence in corpus:\n",
    "        sentence_rep = dict([(v,0) for v in vocabulary])\n",
    "        for word in word_tokenize(sentence.lower()):\n",
    "            if frequency:\n",
    "                sentence_rep[word] +=1\n",
    "            else:\n",
    "                sentence_rep[word] = 1\n",
    "\n",
    "        bow_rep.append(sentence_rep)\n",
    "    return bow_rep\n",
    "\n"
   ]
  },
  {
   "cell_type": "code",
   "execution_count": 15,
   "metadata": {},
   "outputs": [],
   "source": [
    "bow_representation = get_bow_representation(corpus, True)\n",
    "df = pd.DataFrame(bow_representation)\n",
    "df.index = corpus"
   ]
  },
  {
   "cell_type": "markdown",
   "metadata": {},
   "source": [
    "**Using Sklearn CountVectorizer**"
   ]
  },
  {
   "cell_type": "code",
   "execution_count": 16,
   "metadata": {},
   "outputs": [
    {
     "data": {
      "text/html": [
       "<div>\n",
       "<style scoped>\n",
       "    .dataframe tbody tr th:only-of-type {\n",
       "        vertical-align: middle;\n",
       "    }\n",
       "\n",
       "    .dataframe tbody tr th {\n",
       "        vertical-align: top;\n",
       "    }\n",
       "\n",
       "    .dataframe thead th {\n",
       "        text-align: right;\n",
       "    }\n",
       "</style>\n",
       "<table border=\"1\" class=\"dataframe\">\n",
       "  <thead>\n",
       "    <tr style=\"text-align: right;\">\n",
       "      <th></th>\n",
       "      <th>age</th>\n",
       "      <th>best</th>\n",
       "      <th>foolishness</th>\n",
       "      <th>times</th>\n",
       "      <th>wisdom</th>\n",
       "      <th>worst</th>\n",
       "    </tr>\n",
       "  </thead>\n",
       "  <tbody>\n",
       "    <tr>\n",
       "      <th>it was the best of times</th>\n",
       "      <td>0</td>\n",
       "      <td>1</td>\n",
       "      <td>0</td>\n",
       "      <td>1</td>\n",
       "      <td>0</td>\n",
       "      <td>0</td>\n",
       "    </tr>\n",
       "    <tr>\n",
       "      <th>it was the worst of times</th>\n",
       "      <td>0</td>\n",
       "      <td>0</td>\n",
       "      <td>0</td>\n",
       "      <td>1</td>\n",
       "      <td>0</td>\n",
       "      <td>1</td>\n",
       "    </tr>\n",
       "    <tr>\n",
       "      <th>it was the age of wisdom and the age of foolishness</th>\n",
       "      <td>2</td>\n",
       "      <td>0</td>\n",
       "      <td>1</td>\n",
       "      <td>0</td>\n",
       "      <td>1</td>\n",
       "      <td>0</td>\n",
       "    </tr>\n",
       "  </tbody>\n",
       "</table>\n",
       "</div>"
      ],
      "text/plain": [
       "                                                    age  best  foolishness  \\\n",
       "it was the best of times                              0     1            0   \n",
       "it was the worst of times                             0     0            0   \n",
       "it was the age of wisdom and the age of foolish...    2     0            1   \n",
       "\n",
       "                                                    times  wisdom  worst  \n",
       "it was the best of times                                1       0      0  \n",
       "it was the worst of times                               1       0      1  \n",
       "it was the age of wisdom and the age of foolish...      0       1      0  "
      ]
     },
     "execution_count": 16,
     "metadata": {},
     "output_type": "execute_result"
    }
   ],
   "source": [
    "from sklearn.feature_extraction.text import CountVectorizer\n",
    "\n",
    "cv = CountVectorizer(stop_words=\"english\")\n",
    "bow_rep = cv.fit_transform(corpus).todense()\n",
    "\n",
    "df = pd.DataFrame(bow_rep)\n",
    "df.columns = cv.get_feature_names_out()\n",
    "df.index  = corpus\n",
    "\n",
    "df"
   ]
  },
  {
   "cell_type": "markdown",
   "metadata": {},
   "source": [
    "**Drawbacks**"
   ]
  },
  {
   "cell_type": "markdown",
   "metadata": {},
   "source": [
    "1. It can not distinguish between the rare important words and the common words.\n",
    "2. This method ignores the location information of the word. It is not possible to grasp the meaning of a word in this representation."
   ]
  },
  {
   "cell_type": "markdown",
   "metadata": {},
   "source": [
    "**Solution** - Advanced BOW ( TFIDF )"
   ]
  },
  {
   "cell_type": "markdown",
   "metadata": {},
   "source": [
    "TF-IDF is mainly composed of two components - Term Frequency(TF) & IDF (Inverse Document Frequency) \n",
    "\n",
    "* Term Frequency(TF) measures how important a word is in the document.\n",
    "* Most common word would have higher frequency, and this is followed for all the words in the document."
   ]
  },
  {
   "cell_type": "code",
   "execution_count": 17,
   "metadata": {},
   "outputs": [
    {
     "data": {
      "text/html": [
       "<div>\n",
       "<style scoped>\n",
       "    .dataframe tbody tr th:only-of-type {\n",
       "        vertical-align: middle;\n",
       "    }\n",
       "\n",
       "    .dataframe tbody tr th {\n",
       "        vertical-align: top;\n",
       "    }\n",
       "\n",
       "    .dataframe thead th {\n",
       "        text-align: right;\n",
       "    }\n",
       "</style>\n",
       "<table border=\"1\" class=\"dataframe\">\n",
       "  <thead>\n",
       "    <tr style=\"text-align: right;\">\n",
       "      <th></th>\n",
       "      <th>root</th>\n",
       "      <th>all</th>\n",
       "      <th>century</th>\n",
       "      <th>prediction</th>\n",
       "      <th>intelligence</th>\n",
       "      <th>and</th>\n",
       "      <th>of</th>\n",
       "      <th>new</th>\n",
       "      <th>language</th>\n",
       "      <th>is</th>\n",
       "      <th>patterns</th>\n",
       "      <th>data</th>\n",
       "      <th>oil</th>\n",
       "      <th>the</th>\n",
       "    </tr>\n",
       "  </thead>\n",
       "  <tbody>\n",
       "    <tr>\n",
       "      <th>data is the new oil of the century</th>\n",
       "      <td>0.000000</td>\n",
       "      <td>0.000000</td>\n",
       "      <td>0.125</td>\n",
       "      <td>0.000000</td>\n",
       "      <td>0.000000</td>\n",
       "      <td>0.000000</td>\n",
       "      <td>0.125000</td>\n",
       "      <td>0.125</td>\n",
       "      <td>0.000000</td>\n",
       "      <td>0.125000</td>\n",
       "      <td>0.000000</td>\n",
       "      <td>0.125000</td>\n",
       "      <td>0.125</td>\n",
       "      <td>0.250000</td>\n",
       "    </tr>\n",
       "    <tr>\n",
       "      <th>data is the root of all intelligence</th>\n",
       "      <td>0.142857</td>\n",
       "      <td>0.142857</td>\n",
       "      <td>0.000</td>\n",
       "      <td>0.000000</td>\n",
       "      <td>0.142857</td>\n",
       "      <td>0.000000</td>\n",
       "      <td>0.142857</td>\n",
       "      <td>0.000</td>\n",
       "      <td>0.000000</td>\n",
       "      <td>0.142857</td>\n",
       "      <td>0.000000</td>\n",
       "      <td>0.142857</td>\n",
       "      <td>0.000</td>\n",
       "      <td>0.142857</td>\n",
       "    </tr>\n",
       "    <tr>\n",
       "      <th>data is the language of patterns and the language of prediction</th>\n",
       "      <td>0.000000</td>\n",
       "      <td>0.000000</td>\n",
       "      <td>0.000</td>\n",
       "      <td>0.090909</td>\n",
       "      <td>0.000000</td>\n",
       "      <td>0.090909</td>\n",
       "      <td>0.181818</td>\n",
       "      <td>0.000</td>\n",
       "      <td>0.181818</td>\n",
       "      <td>0.090909</td>\n",
       "      <td>0.090909</td>\n",
       "      <td>0.090909</td>\n",
       "      <td>0.000</td>\n",
       "      <td>0.181818</td>\n",
       "    </tr>\n",
       "  </tbody>\n",
       "</table>\n",
       "</div>"
      ],
      "text/plain": [
       "                                                        root       all  \\\n",
       "data is the new oil of the century                  0.000000  0.000000   \n",
       "data is the root of all intelligence                0.142857  0.142857   \n",
       "data is the language of patterns and the langua...  0.000000  0.000000   \n",
       "\n",
       "                                                    century  prediction  \\\n",
       "data is the new oil of the century                    0.125    0.000000   \n",
       "data is the root of all intelligence                  0.000    0.000000   \n",
       "data is the language of patterns and the langua...    0.000    0.090909   \n",
       "\n",
       "                                                    intelligence       and  \\\n",
       "data is the new oil of the century                      0.000000  0.000000   \n",
       "data is the root of all intelligence                    0.142857  0.000000   \n",
       "data is the language of patterns and the langua...      0.000000  0.090909   \n",
       "\n",
       "                                                          of    new  language  \\\n",
       "data is the new oil of the century                  0.125000  0.125  0.000000   \n",
       "data is the root of all intelligence                0.142857  0.000  0.000000   \n",
       "data is the language of patterns and the langua...  0.181818  0.000  0.181818   \n",
       "\n",
       "                                                          is  patterns  \\\n",
       "data is the new oil of the century                  0.125000  0.000000   \n",
       "data is the root of all intelligence                0.142857  0.000000   \n",
       "data is the language of patterns and the langua...  0.090909  0.090909   \n",
       "\n",
       "                                                        data    oil       the  \n",
       "data is the new oil of the century                  0.125000  0.125  0.250000  \n",
       "data is the root of all intelligence                0.142857  0.000  0.142857  \n",
       "data is the language of patterns and the langua...  0.090909  0.000  0.181818  "
      ]
     },
     "metadata": {},
     "output_type": "display_data"
    }
   ],
   "source": [
    "\n",
    "corpus = [\n",
    "    \"data is the new oil of the century\",\n",
    "    \"data is the root of all intelligence\",\n",
    "    \"data is the language of patterns and the language of prediction\"\n",
    "]\n",
    "\n",
    "def get_term_frequency(corpus):\n",
    "    vocabulary = set([x for x in \" \".join(corpus).lower().split(\" \")])\n",
    "\n",
    "    tf_list = []\n",
    "\n",
    "    for sentence in corpus:\n",
    "        sentence_tf = dict([(v,0) for v in vocabulary])\n",
    "\n",
    "        for word in word_tokenize(sentence.lower()):\n",
    "            sentence_tf[word] +=1\n",
    "        for v in vocabulary:\n",
    "            sentence_tf[v] /= len(word_tokenize(sentence.lower()))\n",
    "\n",
    "        tf_list.append(sentence_tf)\n",
    "\n",
    "    return tf_list\n",
    "\n",
    "term_frequency = get_term_frequency(corpus)\n",
    "df = pd.DataFrame(term_frequency)\n",
    "df.index = corpus\n",
    "display(df)"
   ]
  },
  {
   "cell_type": "code",
   "execution_count": 18,
   "metadata": {},
   "outputs": [
    {
     "data": {
      "text/plain": [
       "{'root': np.float64(1.0986122886681098),\n",
       " 'all': np.float64(1.0986122886681098),\n",
       " 'century': np.float64(1.0986122886681098),\n",
       " 'prediction': np.float64(1.0986122886681098),\n",
       " 'intelligence': np.float64(1.0986122886681098),\n",
       " 'and': np.float64(1.0986122886681098),\n",
       " 'of': np.float64(0.0),\n",
       " 'new': np.float64(1.0986122886681098),\n",
       " 'language': np.float64(1.0986122886681098),\n",
       " 'is': np.float64(0.0),\n",
       " 'patterns': np.float64(1.0986122886681098),\n",
       " 'data': np.float64(0.0),\n",
       " 'oil': np.float64(1.0986122886681098),\n",
       " 'the': np.float64(0.0)}"
      ]
     },
     "execution_count": 18,
     "metadata": {},
     "output_type": "execute_result"
    }
   ],
   "source": [
    "def get_inverse_document_frequency(corpus):\n",
    "    vocabulary = set([x for x in \" \".join(corpus).lower().split(\" \")])\n",
    "    n = len(corpus)\n",
    "\n",
    "    inverse_document_frequency = {}\n",
    "    for v in vocabulary:\n",
    "        num_docs = 0\n",
    "        for sentence in corpus:\n",
    "            if v in word_tokenize(sentence.lower()):\n",
    "                num_docs += 1\n",
    "        inverse_document_frequency[v] = np.log(n/num_docs)\n",
    "    return inverse_document_frequency\n",
    "\n",
    "inverse_document_frequency = get_inverse_document_frequency(corpus)\n",
    "inverse_document_frequency"
   ]
  },
  {
   "cell_type": "code",
   "execution_count": 19,
   "metadata": {},
   "outputs": [
    {
     "data": {
      "text/html": [
       "<div>\n",
       "<style scoped>\n",
       "    .dataframe tbody tr th:only-of-type {\n",
       "        vertical-align: middle;\n",
       "    }\n",
       "\n",
       "    .dataframe tbody tr th {\n",
       "        vertical-align: top;\n",
       "    }\n",
       "\n",
       "    .dataframe thead th {\n",
       "        text-align: right;\n",
       "    }\n",
       "</style>\n",
       "<table border=\"1\" class=\"dataframe\">\n",
       "  <thead>\n",
       "    <tr style=\"text-align: right;\">\n",
       "      <th></th>\n",
       "      <th>root</th>\n",
       "      <th>all</th>\n",
       "      <th>century</th>\n",
       "      <th>prediction</th>\n",
       "      <th>intelligence</th>\n",
       "      <th>and</th>\n",
       "      <th>of</th>\n",
       "      <th>new</th>\n",
       "      <th>language</th>\n",
       "      <th>is</th>\n",
       "      <th>patterns</th>\n",
       "      <th>data</th>\n",
       "      <th>oil</th>\n",
       "      <th>the</th>\n",
       "    </tr>\n",
       "  </thead>\n",
       "  <tbody>\n",
       "    <tr>\n",
       "      <th>data is the new oil of the century</th>\n",
       "      <td>0.000000</td>\n",
       "      <td>0.000000</td>\n",
       "      <td>0.137327</td>\n",
       "      <td>0.000000</td>\n",
       "      <td>0.000000</td>\n",
       "      <td>0.000000</td>\n",
       "      <td>0.0</td>\n",
       "      <td>0.137327</td>\n",
       "      <td>0.000000</td>\n",
       "      <td>0.0</td>\n",
       "      <td>0.000000</td>\n",
       "      <td>0.0</td>\n",
       "      <td>0.137327</td>\n",
       "      <td>0.0</td>\n",
       "    </tr>\n",
       "    <tr>\n",
       "      <th>data is the root of all intelligence</th>\n",
       "      <td>0.156945</td>\n",
       "      <td>0.156945</td>\n",
       "      <td>0.000000</td>\n",
       "      <td>0.000000</td>\n",
       "      <td>0.156945</td>\n",
       "      <td>0.000000</td>\n",
       "      <td>0.0</td>\n",
       "      <td>0.000000</td>\n",
       "      <td>0.000000</td>\n",
       "      <td>0.0</td>\n",
       "      <td>0.000000</td>\n",
       "      <td>0.0</td>\n",
       "      <td>0.000000</td>\n",
       "      <td>0.0</td>\n",
       "    </tr>\n",
       "    <tr>\n",
       "      <th>data is the language of patterns and the language of prediction</th>\n",
       "      <td>0.000000</td>\n",
       "      <td>0.000000</td>\n",
       "      <td>0.000000</td>\n",
       "      <td>0.099874</td>\n",
       "      <td>0.000000</td>\n",
       "      <td>0.099874</td>\n",
       "      <td>0.0</td>\n",
       "      <td>0.000000</td>\n",
       "      <td>0.199748</td>\n",
       "      <td>0.0</td>\n",
       "      <td>0.099874</td>\n",
       "      <td>0.0</td>\n",
       "      <td>0.000000</td>\n",
       "      <td>0.0</td>\n",
       "    </tr>\n",
       "  </tbody>\n",
       "</table>\n",
       "</div>"
      ],
      "text/plain": [
       "                                                        root       all  \\\n",
       "data is the new oil of the century                  0.000000  0.000000   \n",
       "data is the root of all intelligence                0.156945  0.156945   \n",
       "data is the language of patterns and the langua...  0.000000  0.000000   \n",
       "\n",
       "                                                     century  prediction  \\\n",
       "data is the new oil of the century                  0.137327    0.000000   \n",
       "data is the root of all intelligence                0.000000    0.000000   \n",
       "data is the language of patterns and the langua...  0.000000    0.099874   \n",
       "\n",
       "                                                    intelligence       and  \\\n",
       "data is the new oil of the century                      0.000000  0.000000   \n",
       "data is the root of all intelligence                    0.156945  0.000000   \n",
       "data is the language of patterns and the langua...      0.000000  0.099874   \n",
       "\n",
       "                                                     of       new  language  \\\n",
       "data is the new oil of the century                  0.0  0.137327  0.000000   \n",
       "data is the root of all intelligence                0.0  0.000000  0.000000   \n",
       "data is the language of patterns and the langua...  0.0  0.000000  0.199748   \n",
       "\n",
       "                                                     is  patterns  data  \\\n",
       "data is the new oil of the century                  0.0  0.000000   0.0   \n",
       "data is the root of all intelligence                0.0  0.000000   0.0   \n",
       "data is the language of patterns and the langua...  0.0  0.099874   0.0   \n",
       "\n",
       "                                                         oil  the  \n",
       "data is the new oil of the century                  0.137327  0.0  \n",
       "data is the root of all intelligence                0.000000  0.0  \n",
       "data is the language of patterns and the langua...  0.000000  0.0  "
      ]
     },
     "metadata": {},
     "output_type": "display_data"
    }
   ],
   "source": [
    "def get_tf_idf(corpus):\n",
    "    tf = get_term_frequency(corpus)\n",
    "    idf = get_inverse_document_frequency(corpus)\n",
    "\n",
    "    tf_idf = []\n",
    "    for tf_dict in tf:\n",
    "        tf_idf_sentence = {}\n",
    "        for t, term_freq in tf_dict.items():\n",
    "            tf_idf_sentence[t] = term_freq * idf[t]\n",
    "        tf_idf.append(tf_idf_sentence)\n",
    "\n",
    "    return tf_idf\n",
    "\n",
    "tf_idf = get_tf_idf(corpus)\n",
    "df = pd.DataFrame(tf_idf)\n",
    "df.index = corpus\n",
    "display(df)"
   ]
  },
  {
   "cell_type": "markdown",
   "metadata": {},
   "source": [
    "**Using Tfidf module**"
   ]
  },
  {
   "cell_type": "code",
   "execution_count": 20,
   "metadata": {},
   "outputs": [
    {
     "data": {
      "text/html": [
       "<div>\n",
       "<style scoped>\n",
       "    .dataframe tbody tr th:only-of-type {\n",
       "        vertical-align: middle;\n",
       "    }\n",
       "\n",
       "    .dataframe tbody tr th {\n",
       "        vertical-align: top;\n",
       "    }\n",
       "\n",
       "    .dataframe thead th {\n",
       "        text-align: right;\n",
       "    }\n",
       "</style>\n",
       "<table border=\"1\" class=\"dataframe\">\n",
       "  <thead>\n",
       "    <tr style=\"text-align: right;\">\n",
       "      <th></th>\n",
       "      <th>all</th>\n",
       "      <th>and</th>\n",
       "      <th>century</th>\n",
       "      <th>data</th>\n",
       "      <th>intelligence</th>\n",
       "      <th>is</th>\n",
       "      <th>language</th>\n",
       "      <th>new</th>\n",
       "      <th>of</th>\n",
       "      <th>oil</th>\n",
       "      <th>patterns</th>\n",
       "      <th>prediction</th>\n",
       "      <th>root</th>\n",
       "      <th>the</th>\n",
       "    </tr>\n",
       "  </thead>\n",
       "  <tbody>\n",
       "    <tr>\n",
       "      <th>data is the new oil of the century</th>\n",
       "      <td>0.000000</td>\n",
       "      <td>0.000000</td>\n",
       "      <td>0.428676</td>\n",
       "      <td>0.253183</td>\n",
       "      <td>0.000000</td>\n",
       "      <td>0.253183</td>\n",
       "      <td>0.000000</td>\n",
       "      <td>0.428676</td>\n",
       "      <td>0.253183</td>\n",
       "      <td>0.428676</td>\n",
       "      <td>0.000000</td>\n",
       "      <td>0.000000</td>\n",
       "      <td>0.000000</td>\n",
       "      <td>0.506366</td>\n",
       "    </tr>\n",
       "    <tr>\n",
       "      <th>data is the root of all intelligence</th>\n",
       "      <td>0.476986</td>\n",
       "      <td>0.000000</td>\n",
       "      <td>0.000000</td>\n",
       "      <td>0.281715</td>\n",
       "      <td>0.476986</td>\n",
       "      <td>0.281715</td>\n",
       "      <td>0.000000</td>\n",
       "      <td>0.000000</td>\n",
       "      <td>0.281715</td>\n",
       "      <td>0.000000</td>\n",
       "      <td>0.000000</td>\n",
       "      <td>0.000000</td>\n",
       "      <td>0.476986</td>\n",
       "      <td>0.281715</td>\n",
       "    </tr>\n",
       "    <tr>\n",
       "      <th>data is the language of patterns and the language of prediction</th>\n",
       "      <td>0.000000</td>\n",
       "      <td>0.308779</td>\n",
       "      <td>0.000000</td>\n",
       "      <td>0.182370</td>\n",
       "      <td>0.000000</td>\n",
       "      <td>0.182370</td>\n",
       "      <td>0.617558</td>\n",
       "      <td>0.000000</td>\n",
       "      <td>0.364740</td>\n",
       "      <td>0.000000</td>\n",
       "      <td>0.308779</td>\n",
       "      <td>0.308779</td>\n",
       "      <td>0.000000</td>\n",
       "      <td>0.364740</td>\n",
       "    </tr>\n",
       "  </tbody>\n",
       "</table>\n",
       "</div>"
      ],
      "text/plain": [
       "                                                         all       and  \\\n",
       "data is the new oil of the century                  0.000000  0.000000   \n",
       "data is the root of all intelligence                0.476986  0.000000   \n",
       "data is the language of patterns and the langua...  0.000000  0.308779   \n",
       "\n",
       "                                                     century      data  \\\n",
       "data is the new oil of the century                  0.428676  0.253183   \n",
       "data is the root of all intelligence                0.000000  0.281715   \n",
       "data is the language of patterns and the langua...  0.000000  0.182370   \n",
       "\n",
       "                                                    intelligence        is  \\\n",
       "data is the new oil of the century                      0.000000  0.253183   \n",
       "data is the root of all intelligence                    0.476986  0.281715   \n",
       "data is the language of patterns and the langua...      0.000000  0.182370   \n",
       "\n",
       "                                                    language       new  \\\n",
       "data is the new oil of the century                  0.000000  0.428676   \n",
       "data is the root of all intelligence                0.000000  0.000000   \n",
       "data is the language of patterns and the langua...  0.617558  0.000000   \n",
       "\n",
       "                                                          of       oil  \\\n",
       "data is the new oil of the century                  0.253183  0.428676   \n",
       "data is the root of all intelligence                0.281715  0.000000   \n",
       "data is the language of patterns and the langua...  0.364740  0.000000   \n",
       "\n",
       "                                                    patterns  prediction  \\\n",
       "data is the new oil of the century                  0.000000    0.000000   \n",
       "data is the root of all intelligence                0.000000    0.000000   \n",
       "data is the language of patterns and the langua...  0.308779    0.308779   \n",
       "\n",
       "                                                        root       the  \n",
       "data is the new oil of the century                  0.000000  0.506366  \n",
       "data is the root of all intelligence                0.476986  0.281715  \n",
       "data is the language of patterns and the langua...  0.000000  0.364740  "
      ]
     },
     "metadata": {},
     "output_type": "display_data"
    }
   ],
   "source": [
    "from sklearn.feature_extraction.text import TfidfVectorizer\n",
    "tfidf = TfidfVectorizer()\n",
    "model = tfidf.fit_transform(corpus).todense()\n",
    "df = pd.DataFrame(model)\n",
    "df.columns = tfidf.get_feature_names_out()\n",
    "df.index = corpus\n",
    "display(df)"
   ]
  },
  {
   "cell_type": "markdown",
   "metadata": {},
   "source": [
    "Summary TF-IDF"
   ]
  },
  {
   "cell_type": "markdown",
   "metadata": {},
   "source": [
    "* Computes the feature importances of a word in the document of a corpus.\n",
    "* It can detect and nullify the effects of stopwords on feature vector of a sentence.\n",
    "* Builds over CountVectorizer to penalize the occurence of highly recurring terms and low-frequency terms in a corpus.\n",
    "* IDF aims to reduce noise in the matrix.\n",
    "\n",
    "\n",
    "**DRAWBACK**\n",
    "\n",
    "* For a large corpus the vocab can be huge which in turns can increase the computational load as well as storage would be challenging as well.\n",
    "* TFIDF only considers the presence/absence of words in document, not the contextual meaning."
   ]
  },
  {
   "cell_type": "markdown",
   "metadata": {},
   "source": [
    "**How do we measure the difference between the two words?**\n",
    "\n",
    "Using Euclidean Distance and Cosine Similarity\n",
    "\n",
    "**Euclidean Distance**\n",
    "\n",
    "$$euclidean \\hspace{0.1cm} distance = \\sqrt{\\sum_{i}^{N}(X_i - Y_i)^2 }$$\n",
    "\n",
    "\n",
    "Here, X and Y are two vectors, and N is the size of the vector.\n",
    "\n",
    "**Cosine Distance = 1 - Cosine Similarity**\n",
    "\n",
    "Cosine Similarity only depends upon the angle between the vectors not on the magnitude. Value ranges from -1 to 1. Two vectors which lie on the line ($\\theta = 0$) have a cosine similarity of 1, and vectors which lie in opposite direction to each other ($\\theta = 180$) have a cosine similarity of -1.\n",
    "\n",
    "**Cosine Distance value ranges from 0-2**\n",
    "\n",
    "\n"
   ]
  },
  {
   "cell_type": "markdown",
   "metadata": {},
   "source": [
    "**Which to use when?**\n",
    "\n",
    "When the magnitude doesn't matter, its ideal to use cosine similarity. For example, In the cases of textual representation using something like BOW, a word like \"cricket\" might be present 50 times in one document which has 1000 words, and 5 times in another document with 100 words. It we calculate the distance using euclidean metric, we might not find the two documents very similar. But this is because of the difference in the length between the 2 documents. Cosine similarity accounts for this very well as this does not look at the magnitude but the angle between the documents (represented by vectors). And here, even though the difference in magnitude is high, the angle will be small."
   ]
  },
  {
   "cell_type": "markdown",
   "metadata": {},
   "source": [
    "Given the 3 words (king, man and water), all represented using BOW vectors, lets try and find the distance between them using cosine distance metric."
   ]
  },
  {
   "cell_type": "code",
   "execution_count": 21,
   "metadata": {},
   "outputs": [],
   "source": [
    "king = [1, 0, 0]\n",
    "man = [0, 1, 0]\n",
    "water = [0, 0, 1]\n",
    "\n",
    "def cosine_distance(x,y):\n",
    "    return 1 - np.dot(x,y)/(np.sqrt(np.dot(x,x)) * np.sqrt(np.dot(y,y)))"
   ]
  },
  {
   "cell_type": "code",
   "execution_count": 22,
   "metadata": {},
   "outputs": [
    {
     "name": "stdout",
     "output_type": "stream",
     "text": [
      "Cosine Distance between, King and man 1.0\n",
      "Cosine Distance between, King and water 1.0\n",
      "Cosine Distance between, man and water 1.0\n"
     ]
    }
   ],
   "source": [
    "print(\"Cosine Distance between, King and man\",cosine_distance(king,man))\n",
    "print(\"Cosine Distance between, King and water\", cosine_distance(king,man))\n",
    "print(\"Cosine Distance between, man and water\", cosine_distance(king,man))"
   ]
  },
  {
   "cell_type": "markdown",
   "metadata": {},
   "source": [
    "**PREPROCESSING**\n",
    "\n",
    "Using spacy"
   ]
  },
  {
   "cell_type": "code",
   "execution_count": 23,
   "metadata": {},
   "outputs": [],
   "source": [
    "def process_sentence(sentence, nlp_object):\n",
    "    # Convert to lowercase\n",
    "    sentence = sentence.lower()\n",
    "\n",
    "    # Exapnding contractions\n",
    "    sentence = contractions.fix(sentence)\n",
    "\n",
    "    # Lemmatization and removing stopwords\n",
    "    doc = nlp_object(sentence)\n",
    "    sentence = \" \".join([token.lemma_ for token in doc if not token.is_stop])\n",
    "\n",
    "    # Remove punctuation\n",
    "    for p in string.punctuation:\n",
    "        sentence = sentence.replace(p, \" \")\n",
    "    sentence = re.sub(r\"\\s+\", \" \", sentence) # Replace all whitespace characters with space\n",
    "\n",
    "    return sentence\n",
    "    "
   ]
  },
  {
   "cell_type": "code",
   "execution_count": 26,
   "metadata": {},
   "outputs": [
    {
     "data": {
      "application/vnd.jupyter.widget-view+json": {
       "model_id": "f0935c81309a4d8fb71bc12477b61dbf",
       "version_major": 2,
       "version_minor": 0
      },
      "text/plain": [
       "  0%|          | 0/208 [00:00<?, ?it/s]"
      ]
     },
     "metadata": {},
     "output_type": "display_data"
    }
   ],
   "source": [
    "from tqdm.notebook import tqdm\n",
    "# tqdm to see real time progress\n",
    "tqdm.pandas()\n",
    "\n",
    "nlp = spacy.load('en_core_web_sm') # English pipeline optimized for CPU\n",
    "\n",
    "def process_article(article_text, nlp_object):\n",
    "    processed_article_sentences = []\n",
    "    # using nltk sentence tokenizer\n",
    "    for sentence in sent_tokenize(article_text):\n",
    "        # preprocessing each sentence using our process_sentence function\n",
    "        processed_article_sentences.append(process_sentence(sentence, nlp_object))\n",
    "    # joining preprocessed sentence as a complete paragrams of the article\n",
    "    return \" \".join(processed_article_sentences)\n",
    "\n",
    "articles[\"processed_text\"] = articles[\"text\"].progress_apply(lambda x : process_article(x, nlp))"
   ]
  },
  {
   "cell_type": "markdown",
   "metadata": {},
   "source": [
    "Let us check similarity between the document using cosine similarity\n"
   ]
  },
  {
   "cell_type": "code",
   "execution_count": 33,
   "metadata": {},
   "outputs": [
    {
     "data": {
      "text/html": [
       "<div>\n",
       "<style scoped>\n",
       "    .dataframe tbody tr th:only-of-type {\n",
       "        vertical-align: middle;\n",
       "    }\n",
       "\n",
       "    .dataframe tbody tr th {\n",
       "        vertical-align: top;\n",
       "    }\n",
       "\n",
       "    .dataframe thead th {\n",
       "        text-align: right;\n",
       "    }\n",
       "</style>\n",
       "<table border=\"1\" class=\"dataframe\">\n",
       "  <thead>\n",
       "    <tr style=\"text-align: right;\">\n",
       "      <th></th>\n",
       "      <th>00</th>\n",
       "      <th>000</th>\n",
       "      <th>01</th>\n",
       "      <th>05</th>\n",
       "      <th>06</th>\n",
       "      <th>07</th>\n",
       "      <th>10</th>\n",
       "      <th>100</th>\n",
       "      <th>1000</th>\n",
       "      <th>101</th>\n",
       "      <th>...</th>\n",
       "      <th>youtube</th>\n",
       "      <th>zero</th>\n",
       "      <th>zhou</th>\n",
       "      <th>zip</th>\n",
       "      <th>zombie</th>\n",
       "      <th>zone</th>\n",
       "      <th>zoom</th>\n",
       "      <th>zuckerberg</th>\n",
       "      <th>TITLE</th>\n",
       "      <th>ID</th>\n",
       "    </tr>\n",
       "  </thead>\n",
       "  <tbody>\n",
       "    <tr>\n",
       "      <th>0</th>\n",
       "      <td>0.000000</td>\n",
       "      <td>0.0</td>\n",
       "      <td>0.0</td>\n",
       "      <td>0.0</td>\n",
       "      <td>0.000000</td>\n",
       "      <td>0.0</td>\n",
       "      <td>0.000000</td>\n",
       "      <td>0.0</td>\n",
       "      <td>0.0</td>\n",
       "      <td>0.0</td>\n",
       "      <td>...</td>\n",
       "      <td>0.0</td>\n",
       "      <td>0.000000</td>\n",
       "      <td>0.0</td>\n",
       "      <td>0.0</td>\n",
       "      <td>0.000000</td>\n",
       "      <td>0.000000</td>\n",
       "      <td>0.0</td>\n",
       "      <td>0.0</td>\n",
       "      <td>Ensemble methods: bagging, boosting and stacking</td>\n",
       "      <td>1</td>\n",
       "    </tr>\n",
       "    <tr>\n",
       "      <th>1</th>\n",
       "      <td>0.000000</td>\n",
       "      <td>0.0</td>\n",
       "      <td>0.0</td>\n",
       "      <td>0.0</td>\n",
       "      <td>0.000000</td>\n",
       "      <td>0.0</td>\n",
       "      <td>0.000000</td>\n",
       "      <td>0.0</td>\n",
       "      <td>0.0</td>\n",
       "      <td>0.0</td>\n",
       "      <td>...</td>\n",
       "      <td>0.0</td>\n",
       "      <td>0.000000</td>\n",
       "      <td>0.0</td>\n",
       "      <td>0.0</td>\n",
       "      <td>0.000000</td>\n",
       "      <td>0.000000</td>\n",
       "      <td>0.0</td>\n",
       "      <td>0.0</td>\n",
       "      <td>Understanding AUC - ROC Curve</td>\n",
       "      <td>2</td>\n",
       "    </tr>\n",
       "    <tr>\n",
       "      <th>2</th>\n",
       "      <td>0.000000</td>\n",
       "      <td>0.0</td>\n",
       "      <td>0.0</td>\n",
       "      <td>0.0</td>\n",
       "      <td>0.019288</td>\n",
       "      <td>0.0</td>\n",
       "      <td>0.008322</td>\n",
       "      <td>0.0</td>\n",
       "      <td>0.0</td>\n",
       "      <td>0.0</td>\n",
       "      <td>...</td>\n",
       "      <td>0.0</td>\n",
       "      <td>0.000000</td>\n",
       "      <td>0.0</td>\n",
       "      <td>0.0</td>\n",
       "      <td>0.000000</td>\n",
       "      <td>0.000000</td>\n",
       "      <td>0.0</td>\n",
       "      <td>0.0</td>\n",
       "      <td>How to work with object detection datasets in ...</td>\n",
       "      <td>3</td>\n",
       "    </tr>\n",
       "    <tr>\n",
       "      <th>3</th>\n",
       "      <td>0.000000</td>\n",
       "      <td>0.0</td>\n",
       "      <td>0.0</td>\n",
       "      <td>0.0</td>\n",
       "      <td>0.000000</td>\n",
       "      <td>0.0</td>\n",
       "      <td>0.000000</td>\n",
       "      <td>0.0</td>\n",
       "      <td>0.0</td>\n",
       "      <td>0.0</td>\n",
       "      <td>...</td>\n",
       "      <td>0.0</td>\n",
       "      <td>0.006363</td>\n",
       "      <td>0.0</td>\n",
       "      <td>0.0</td>\n",
       "      <td>0.000000</td>\n",
       "      <td>0.000000</td>\n",
       "      <td>0.0</td>\n",
       "      <td>0.0</td>\n",
       "      <td>11 Dimensionality reduction techniques you sho...</td>\n",
       "      <td>4</td>\n",
       "    </tr>\n",
       "    <tr>\n",
       "      <th>4</th>\n",
       "      <td>0.000000</td>\n",
       "      <td>0.0</td>\n",
       "      <td>0.0</td>\n",
       "      <td>0.0</td>\n",
       "      <td>0.000000</td>\n",
       "      <td>0.0</td>\n",
       "      <td>0.000000</td>\n",
       "      <td>0.0</td>\n",
       "      <td>0.0</td>\n",
       "      <td>0.0</td>\n",
       "      <td>...</td>\n",
       "      <td>0.0</td>\n",
       "      <td>0.000000</td>\n",
       "      <td>0.0</td>\n",
       "      <td>0.0</td>\n",
       "      <td>0.000000</td>\n",
       "      <td>0.000000</td>\n",
       "      <td>0.0</td>\n",
       "      <td>0.0</td>\n",
       "      <td>The Time Series Transformer</td>\n",
       "      <td>5</td>\n",
       "    </tr>\n",
       "    <tr>\n",
       "      <th>...</th>\n",
       "      <td>...</td>\n",
       "      <td>...</td>\n",
       "      <td>...</td>\n",
       "      <td>...</td>\n",
       "      <td>...</td>\n",
       "      <td>...</td>\n",
       "      <td>...</td>\n",
       "      <td>...</td>\n",
       "      <td>...</td>\n",
       "      <td>...</td>\n",
       "      <td>...</td>\n",
       "      <td>...</td>\n",
       "      <td>...</td>\n",
       "      <td>...</td>\n",
       "      <td>...</td>\n",
       "      <td>...</td>\n",
       "      <td>...</td>\n",
       "      <td>...</td>\n",
       "      <td>...</td>\n",
       "      <td>...</td>\n",
       "      <td>...</td>\n",
       "    </tr>\n",
       "    <tr>\n",
       "      <th>203</th>\n",
       "      <td>0.015118</td>\n",
       "      <td>0.0</td>\n",
       "      <td>0.0</td>\n",
       "      <td>0.0</td>\n",
       "      <td>0.000000</td>\n",
       "      <td>0.0</td>\n",
       "      <td>0.006343</td>\n",
       "      <td>0.0</td>\n",
       "      <td>0.0</td>\n",
       "      <td>0.0</td>\n",
       "      <td>...</td>\n",
       "      <td>0.0</td>\n",
       "      <td>0.000000</td>\n",
       "      <td>0.0</td>\n",
       "      <td>0.0</td>\n",
       "      <td>0.000000</td>\n",
       "      <td>0.000000</td>\n",
       "      <td>0.0</td>\n",
       "      <td>0.0</td>\n",
       "      <td>Type 2 Diabetes Reversal  The Quick Start Guide</td>\n",
       "      <td>210</td>\n",
       "    </tr>\n",
       "    <tr>\n",
       "      <th>204</th>\n",
       "      <td>0.000000</td>\n",
       "      <td>0.0</td>\n",
       "      <td>0.0</td>\n",
       "      <td>0.0</td>\n",
       "      <td>0.000000</td>\n",
       "      <td>0.0</td>\n",
       "      <td>0.000000</td>\n",
       "      <td>0.0</td>\n",
       "      <td>0.0</td>\n",
       "      <td>0.0</td>\n",
       "      <td>...</td>\n",
       "      <td>0.0</td>\n",
       "      <td>0.000000</td>\n",
       "      <td>0.0</td>\n",
       "      <td>0.0</td>\n",
       "      <td>0.000000</td>\n",
       "      <td>0.068679</td>\n",
       "      <td>0.0</td>\n",
       "      <td>0.0</td>\n",
       "      <td>How a 22 Day Water Fast Changed My Life</td>\n",
       "      <td>211</td>\n",
       "    </tr>\n",
       "    <tr>\n",
       "      <th>205</th>\n",
       "      <td>0.000000</td>\n",
       "      <td>0.0</td>\n",
       "      <td>0.0</td>\n",
       "      <td>0.0</td>\n",
       "      <td>0.000000</td>\n",
       "      <td>0.0</td>\n",
       "      <td>0.016279</td>\n",
       "      <td>0.0</td>\n",
       "      <td>0.0</td>\n",
       "      <td>0.0</td>\n",
       "      <td>...</td>\n",
       "      <td>0.0</td>\n",
       "      <td>0.021420</td>\n",
       "      <td>0.0</td>\n",
       "      <td>0.0</td>\n",
       "      <td>0.000000</td>\n",
       "      <td>0.000000</td>\n",
       "      <td>0.0</td>\n",
       "      <td>0.0</td>\n",
       "      <td>Breaking Your Fast</td>\n",
       "      <td>212</td>\n",
       "    </tr>\n",
       "    <tr>\n",
       "      <th>206</th>\n",
       "      <td>0.000000</td>\n",
       "      <td>0.0</td>\n",
       "      <td>0.0</td>\n",
       "      <td>0.0</td>\n",
       "      <td>0.000000</td>\n",
       "      <td>0.0</td>\n",
       "      <td>0.043596</td>\n",
       "      <td>0.0</td>\n",
       "      <td>0.0</td>\n",
       "      <td>0.0</td>\n",
       "      <td>...</td>\n",
       "      <td>0.0</td>\n",
       "      <td>0.000000</td>\n",
       "      <td>0.0</td>\n",
       "      <td>0.0</td>\n",
       "      <td>0.021434</td>\n",
       "      <td>0.019230</td>\n",
       "      <td>0.0</td>\n",
       "      <td>0.0</td>\n",
       "      <td>11 Unusual Tips for How to Wake Up Early</td>\n",
       "      <td>213</td>\n",
       "    </tr>\n",
       "    <tr>\n",
       "      <th>207</th>\n",
       "      <td>0.000000</td>\n",
       "      <td>0.0</td>\n",
       "      <td>0.0</td>\n",
       "      <td>0.0</td>\n",
       "      <td>0.000000</td>\n",
       "      <td>0.0</td>\n",
       "      <td>0.007900</td>\n",
       "      <td>0.0</td>\n",
       "      <td>0.0</td>\n",
       "      <td>0.0</td>\n",
       "      <td>...</td>\n",
       "      <td>0.0</td>\n",
       "      <td>0.000000</td>\n",
       "      <td>0.0</td>\n",
       "      <td>0.0</td>\n",
       "      <td>0.000000</td>\n",
       "      <td>0.000000</td>\n",
       "      <td>0.0</td>\n",
       "      <td>0.0</td>\n",
       "      <td>The 3 Biggest Mistakes Women Make On The Ketog...</td>\n",
       "      <td>214</td>\n",
       "    </tr>\n",
       "  </tbody>\n",
       "</table>\n",
       "<p>208 rows × 3709 columns</p>\n",
       "</div>"
      ],
      "text/plain": [
       "           00  000   01   05        06   07        10  100  1000  101  ...  \\\n",
       "0    0.000000  0.0  0.0  0.0  0.000000  0.0  0.000000  0.0   0.0  0.0  ...   \n",
       "1    0.000000  0.0  0.0  0.0  0.000000  0.0  0.000000  0.0   0.0  0.0  ...   \n",
       "2    0.000000  0.0  0.0  0.0  0.019288  0.0  0.008322  0.0   0.0  0.0  ...   \n",
       "3    0.000000  0.0  0.0  0.0  0.000000  0.0  0.000000  0.0   0.0  0.0  ...   \n",
       "4    0.000000  0.0  0.0  0.0  0.000000  0.0  0.000000  0.0   0.0  0.0  ...   \n",
       "..        ...  ...  ...  ...       ...  ...       ...  ...   ...  ...  ...   \n",
       "203  0.015118  0.0  0.0  0.0  0.000000  0.0  0.006343  0.0   0.0  0.0  ...   \n",
       "204  0.000000  0.0  0.0  0.0  0.000000  0.0  0.000000  0.0   0.0  0.0  ...   \n",
       "205  0.000000  0.0  0.0  0.0  0.000000  0.0  0.016279  0.0   0.0  0.0  ...   \n",
       "206  0.000000  0.0  0.0  0.0  0.000000  0.0  0.043596  0.0   0.0  0.0  ...   \n",
       "207  0.000000  0.0  0.0  0.0  0.000000  0.0  0.007900  0.0   0.0  0.0  ...   \n",
       "\n",
       "     youtube      zero  zhou  zip    zombie      zone  zoom  zuckerberg  \\\n",
       "0        0.0  0.000000   0.0  0.0  0.000000  0.000000   0.0         0.0   \n",
       "1        0.0  0.000000   0.0  0.0  0.000000  0.000000   0.0         0.0   \n",
       "2        0.0  0.000000   0.0  0.0  0.000000  0.000000   0.0         0.0   \n",
       "3        0.0  0.006363   0.0  0.0  0.000000  0.000000   0.0         0.0   \n",
       "4        0.0  0.000000   0.0  0.0  0.000000  0.000000   0.0         0.0   \n",
       "..       ...       ...   ...  ...       ...       ...   ...         ...   \n",
       "203      0.0  0.000000   0.0  0.0  0.000000  0.000000   0.0         0.0   \n",
       "204      0.0  0.000000   0.0  0.0  0.000000  0.068679   0.0         0.0   \n",
       "205      0.0  0.021420   0.0  0.0  0.000000  0.000000   0.0         0.0   \n",
       "206      0.0  0.000000   0.0  0.0  0.021434  0.019230   0.0         0.0   \n",
       "207      0.0  0.000000   0.0  0.0  0.000000  0.000000   0.0         0.0   \n",
       "\n",
       "                                                 TITLE   ID  \n",
       "0     Ensemble methods: bagging, boosting and stacking    1  \n",
       "1                        Understanding AUC - ROC Curve    2  \n",
       "2    How to work with object detection datasets in ...    3  \n",
       "3    11 Dimensionality reduction techniques you sho...    4  \n",
       "4                          The Time Series Transformer    5  \n",
       "..                                                 ...  ...  \n",
       "203    Type 2 Diabetes Reversal  The Quick Start Guide  210  \n",
       "204            How a 22 Day Water Fast Changed My Life  211  \n",
       "205                                 Breaking Your Fast  212  \n",
       "206           11 Unusual Tips for How to Wake Up Early  213  \n",
       "207  The 3 Biggest Mistakes Women Make On The Ketog...  214  \n",
       "\n",
       "[208 rows x 3709 columns]"
      ]
     },
     "metadata": {},
     "output_type": "display_data"
    }
   ],
   "source": [
    "tfidf_vectorizer = TfidfVectorizer(min_df=5)\n",
    "tfidf_features = tfidf_vectorizer.fit_transform(articles['processed_text']).todense()\n",
    "\n",
    "tfidf_features_df = pd.DataFrame(tfidf_features)\n",
    "tfidf_features_df.columns = tfidf_vectorizer.get_feature_names_out() \n",
    "tfidf_features_df[\"TITLE\"] = articles[\"title\"]\n",
    "tfidf_features_df[\"ID\"] = articles[\"id\"]\n",
    "display(tfidf_features_df)\n",
    "\n"
   ]
  },
  {
   "cell_type": "code",
   "execution_count": 35,
   "metadata": {},
   "outputs": [
    {
     "data": {
      "text/html": [
       "<div>\n",
       "<style scoped>\n",
       "    .dataframe tbody tr th:only-of-type {\n",
       "        vertical-align: middle;\n",
       "    }\n",
       "\n",
       "    .dataframe tbody tr th {\n",
       "        vertical-align: top;\n",
       "    }\n",
       "\n",
       "    .dataframe thead th {\n",
       "        text-align: right;\n",
       "    }\n",
       "</style>\n",
       "<table border=\"1\" class=\"dataframe\">\n",
       "  <thead>\n",
       "    <tr style=\"text-align: right;\">\n",
       "      <th></th>\n",
       "      <th>C1</th>\n",
       "      <th>C2</th>\n",
       "      <th>TITLE</th>\n",
       "    </tr>\n",
       "  </thead>\n",
       "  <tbody>\n",
       "    <tr>\n",
       "      <th>0</th>\n",
       "      <td>-11.093724</td>\n",
       "      <td>-7.871446</td>\n",
       "      <td>Ensemble methods: bagging, boosting and stacking</td>\n",
       "    </tr>\n",
       "    <tr>\n",
       "      <th>1</th>\n",
       "      <td>-17.218216</td>\n",
       "      <td>-10.603015</td>\n",
       "      <td>Understanding AUC - ROC Curve</td>\n",
       "    </tr>\n",
       "    <tr>\n",
       "      <th>2</th>\n",
       "      <td>-6.778526</td>\n",
       "      <td>-6.325544</td>\n",
       "      <td>How to work with object detection datasets in ...</td>\n",
       "    </tr>\n",
       "    <tr>\n",
       "      <th>3</th>\n",
       "      <td>-14.526843</td>\n",
       "      <td>-5.664369</td>\n",
       "      <td>11 Dimensionality reduction techniques you sho...</td>\n",
       "    </tr>\n",
       "    <tr>\n",
       "      <th>4</th>\n",
       "      <td>-6.692840</td>\n",
       "      <td>-12.157291</td>\n",
       "      <td>The Time Series Transformer</td>\n",
       "    </tr>\n",
       "    <tr>\n",
       "      <th>...</th>\n",
       "      <td>...</td>\n",
       "      <td>...</td>\n",
       "      <td>...</td>\n",
       "    </tr>\n",
       "    <tr>\n",
       "      <th>203</th>\n",
       "      <td>16.741882</td>\n",
       "      <td>-1.910820</td>\n",
       "      <td>Type 2 Diabetes Reversal  The Quick Start Guide</td>\n",
       "    </tr>\n",
       "    <tr>\n",
       "      <th>204</th>\n",
       "      <td>15.058546</td>\n",
       "      <td>0.774221</td>\n",
       "      <td>How a 22 Day Water Fast Changed My Life</td>\n",
       "    </tr>\n",
       "    <tr>\n",
       "      <th>205</th>\n",
       "      <td>15.725264</td>\n",
       "      <td>-0.077236</td>\n",
       "      <td>Breaking Your Fast</td>\n",
       "    </tr>\n",
       "    <tr>\n",
       "      <th>206</th>\n",
       "      <td>10.183302</td>\n",
       "      <td>3.781816</td>\n",
       "      <td>11 Unusual Tips for How to Wake Up Early</td>\n",
       "    </tr>\n",
       "    <tr>\n",
       "      <th>207</th>\n",
       "      <td>14.042978</td>\n",
       "      <td>-3.707457</td>\n",
       "      <td>The 3 Biggest Mistakes Women Make On The Ketog...</td>\n",
       "    </tr>\n",
       "  </tbody>\n",
       "</table>\n",
       "<p>208 rows × 3 columns</p>\n",
       "</div>"
      ],
      "text/plain": [
       "            C1         C2                                              TITLE\n",
       "0   -11.093724  -7.871446   Ensemble methods: bagging, boosting and stacking\n",
       "1   -17.218216 -10.603015                      Understanding AUC - ROC Curve\n",
       "2    -6.778526  -6.325544  How to work with object detection datasets in ...\n",
       "3   -14.526843  -5.664369  11 Dimensionality reduction techniques you sho...\n",
       "4    -6.692840 -12.157291                        The Time Series Transformer\n",
       "..         ...        ...                                                ...\n",
       "203  16.741882  -1.910820    Type 2 Diabetes Reversal  The Quick Start Guide\n",
       "204  15.058546   0.774221            How a 22 Day Water Fast Changed My Life\n",
       "205  15.725264  -0.077236                                 Breaking Your Fast\n",
       "206  10.183302   3.781816           11 Unusual Tips for How to Wake Up Early\n",
       "207  14.042978  -3.707457  The 3 Biggest Mistakes Women Make On The Ketog...\n",
       "\n",
       "[208 rows x 3 columns]"
      ]
     },
     "metadata": {},
     "output_type": "display_data"
    }
   ],
   "source": [
    "from sklearn.manifold import TSNE\n",
    "\n",
    "tsne = TSNE(n_components=2)\n",
    "tsne_tfidf_features = tsne.fit_transform(tfidf_features_df[tfidf_vectorizer.get_feature_names_out()].values)\n",
    "tsne_tfidf_features_df = pd.DataFrame(tsne_tfidf_features)\n",
    "tsne_tfidf_features_df.columns = [\"C1\", \"C2\"]\n",
    "tsne_tfidf_features_df[\"TITLE\"] = tfidf_features_df[\"TITLE\"]\n",
    "display(tsne_tfidf_features_df)"
   ]
  },
  {
   "cell_type": "code",
   "execution_count": 39,
   "metadata": {},
   "outputs": [
    {
     "data": {
      "application/vnd.plotly.v1+json": {
       "config": {
        "plotlyServerURL": "https://plot.ly"
       },
       "data": [
        {
         "customdata": [
          [
           "Ensemble methods: bagging, boosting and stacking"
          ],
          [
           "Understanding AUC - ROC Curve"
          ],
          [
           "How to work with object detection datasets in COCO format"
          ],
          [
           "11 Dimensionality reduction techniques you should know in 2021"
          ],
          [
           "The Time Series Transformer"
          ],
          [
           "Learning a Personalized Homepage"
          ],
          [
           "6 Data Science Certificates To Level Up Your Career"
          ],
          [
           "Transformers Explained Visually (Part 2): How it works, step-by-step"
          ],
          [
           "60 Python Projects with Source Code"
          ],
          [
           "Geometric foundations of Deep Learning"
          ],
          [
           "Machine Learning Basics with the K-Nearest Neighbors Algorithm"
          ],
          [
           "Building RNN, LSTM, and GRU for time series using PyTorch"
          ],
          [
           "Algorithms of the Mind"
          ],
          [
           "4 Reasons Why Economists Make Great Data Scientists (And Why No One Tells Them)"
          ],
          [
           "How To Create A Chatbot with Python & Deep Learning In Less Than An Hour"
          ],
          [
           "Machine Learning is Fun Part 5: Language Translation with Deep Learning and the Magic of Sequences"
          ],
          [
           "Illustrated Guide to LSTM's and GRU's: A step by step explanation"
          ],
          [
           "How to go from a Python newbie to a Google Certified TensorFlow Developer under two months"
          ],
          [
           "17 Clustering Algorithms Used In Data Science and Mining"
          ],
          [
           "Introduction to Genetic Algorithms  Including Example Code"
          ],
          [
           "Photoreal Roman Emperor Project"
          ],
          [
           "Fundamental Techniques of Feature Engineering for Machine Learning"
          ],
          [
           "How I Got a Job at DeepMind as a Research Engineer (without a Machine Learning Degree!)"
          ],
          [
           "Towards the end of deep learning and the beginning of AGI"
          ],
          [
           "Tutorial: Document Classification using WEKA"
          ],
          [
           "Understanding Random Forest"
          ],
          [
           "Probability concepts explained: Maximum likelihood estimation"
          ],
          [
           "Transformers Explained Visually (Part 3): Multi-head Attention, deep dive"
          ],
          [
           "180 Data Science and Machine Learning Projects with Python"
          ],
          [
           "5 Online Courses I Took as a Self-Taught Data Scientist"
          ],
          [
           "Machine Learning is Fun! Part 4: Modern Face Recognition with Deep Learning"
          ],
          [
           "9 Distance Measures in Data Science"
          ],
          [
           "The Sexiest Job of the 21st Century Isn't \"Sexy\" Anymore"
          ],
          [
           "Machine Learning is Fun! Part 3: Deep Learning and Convolutional Neural Networks"
          ],
          [
           "A Comprehensive Guide to Convolutional Neural Networks  the ELI5 way"
          ],
          [
           "20 Necessary Requirements of a Perfect Laptop for Data Science and Machine Learning Tasks"
          ],
          [
           "3 Beginner Mistakes I've Made in My Data Science Career"
          ],
          [
           "Understanding Variational Autoencoders (VAEs)"
          ],
          [
           "Setting Up a New M1 MacBook for Data Science"
          ],
          [
           "Are The New M1 Macbooks Any Good for Data Science? Let's Find Out"
          ],
          [
           "Simple and Multiple Linear Regression in Python"
          ],
          [
           "I tripled my income with data science. Here's how."
          ],
          [
           "Keyword Extraction process in Python with Natural Language Processing(NLP)"
          ],
          [
           "Machine learning models for 100% better returns in Algo-trading"
          ],
          [
           "How to Install Ubuntu Desktop With a Graphical User Interface in WSL2"
          ],
          [
           "Understanding Contrastive Learning"
          ],
          [
           "Understanding Semantic Segmentation with UNET"
          ],
          [
           "How Transformers Work"
          ],
          [
           "Yes you should understand backprop"
          ],
          [
           "PCA using Python (scikit-learn)"
          ],
          [
           "Hyperparameter Tuning the Random Forest in Python"
          ],
          [
           "Top 3 Reasons Why I Sold My M1 Macbook Pro as a Data Scientist"
          ],
          [
           "TRAIN A CUSTOM YOLOv4 OBJECT DETECTOR (Using Google Colab)"
          ],
          [
           "6 Machine Learning Certificates to Pursue in 2021"
          ],
          [
           "What to do with \"small\" data?"
          ],
          [
           "Time Series Forecasting with PyCaret Regression Module"
          ],
          [
           "15 Habits I Learned from Highly Effective Data Scientists"
          ],
          [
           "OVER 100 Data Scientist Interview Questions and Answers!"
          ],
          [
           "Activation Functions in Neural Networks"
          ],
          [
           "A One-Stop Shop for Principal Component Analysis"
          ],
          [
           "5 Things You Should Know About Covariance"
          ],
          [
           "How to build your own Neural Network from scratch in Python"
          ],
          [
           "The best explanation of Convolutional Neural Networks on the Internet!"
          ],
          [
           "Lambda Functions with Practical Examples in Python"
          ],
          [
           "The Complete Guide to Time Series Analysis and Forecasting"
          ],
          [
           "8 Ways to Filter Pandas Dataframes"
          ],
          [
           "Standing with Dr. Timnit Gebru  #ISupportTimnit #BelieveBlackWomen"
          ],
          [
           "Visualising high-dimensional datasets using PCA and t-SNE in Python"
          ],
          [
           "How to Study for the Google Data Analytics Professional Certificate"
          ],
          [
           "Is Data Science Still a Rising Career in 2021"
          ],
          [
           "Simple Reinforcement Learning with Tensorflow Part 0: Q-Learning with Tables and Neural Networks"
          ],
          [
           "How To Grow From Non-Coder to Data Scientist in 6 Months"
          ],
          [
           "Apple's New M1 Chip is a Machine Learning Beast"
          ],
          [
           "Train/Test Split and Cross Validation in Python"
          ],
          [
           "Text Classification with NLP: Tf-Idf vs Word2Vec vs BERT"
          ],
          [
           "The 5 Clustering Algorithms Data Scientists Need to Know"
          ],
          [
           "Building A Logistic Regression in Python, Step by Step"
          ],
          [
           "Springer has released 65 Machine Learning and Data books for free"
          ],
          [
           "Every single Machine Learning course on the internet, ranked by your reviews"
          ],
          [
           "TensorFlow Tutorial Part 1"
          ],
          [
           "The 7 Best Data Science and Machine Learning Podcasts"
          ],
          [
           "Random Forest in Python"
          ],
          [
           "How to Land a Data Analytics Job in 6 Months"
          ],
          [
           "What is a Transformer?"
          ],
          [
           "Fundamentals Of Statistics For Data Scientists and Analysts"
          ],
          [
           "Is Google's AI research about to implode?"
          ],
          [
           "Machine Learning is Fun! Part 2"
          ],
          [
           "Understanding Generative Adversarial Networks (GANs)"
          ],
          [
           "17 types of similarity and dissimilarity measures used in data science."
          ],
          [
           "Deep Learning Is Going to Teach Us All the Lesson of Our Lives: Jobs Are for Machines"
          ],
          [
           "I interviewed at five top companies in Silicon Valley in five days, and luckily got five job offers"
          ],
          [
           "Advantages and Disadvantages of Artificial Intelligence"
          ],
          [
           "Could Nim Replace Python?"
          ],
          [
           "An End-to-End Project on Time Series Analysis and Forecasting with Python"
          ],
          [
           "Data Scientists Will be Extinct in 10 Years"
          ],
          [
           "Import all Python libraries in one line of code"
          ],
          [
           "Enchanted Random Forest"
          ],
          [
           "Machine Learning in a Week"
          ],
          [
           "50+ Statistics Interview Questions and Answers for Data Scientists for 2022"
          ],
          [
           "Top 10 Data Science Projects for Beginners"
          ],
          [
           "Check For a Substring in a Pandas DataFrame Column"
          ],
          [
           "Machine Learning is Fun Part 6: How to do Speech Recognition with Deep Learning"
          ],
          [
           "Everything You Need to Know About Artificial Neural Networks"
          ],
          [
           "Ways to Detect and Remove the Outliers"
          ],
          [
           "How to Crush the Crypto Market, Quit Your Job, Move to Paradise and Do Whatever You Want the Rest of Your Life"
          ],
          [
           "Bitcoin Is Venice"
          ],
          [
           "How I Built a Net Worth of $500,000 Before Age 30"
          ],
          [
           "Nassim Nicholas Taleb on Self-Education and Doing the Math (Ep. 41  Live at Mercatus)"
          ],
          [
           "Public Mint Polkastarter IDO: Launching 23rd of February, Whitelist Now Open!"
          ],
          [
           "This is How I Made $40k In Passive Income By Age 26"
          ],
          [
           "Introducing The Iron Bank"
          ],
          [
           "I used Acorns, Robinhood, and Stash for 2 years. This is what I learned and earned."
          ],
          [
           "Explaining blockchain  how proof of work enables trustless consensus"
          ],
          [
           "Wealthfront:Silicon Valley Tech at Wall Street Prices"
          ],
          [
           "Crypto Trading Bots  A helpful guide for beginners [2020]"
          ],
          [
           "Why People Still Don't Get Cryptocurrency"
          ],
          [
           "Australia's Economy is a House of Cards"
          ],
          [
           "My First Two Months Trading Stocks with Robinhood"
          ],
          [
           "What It Takes to Go from $0 to $1 Million in Less Than One Year"
          ],
          [
           "Tesla Is Dead (And Elon Musk Knows It)"
          ],
          [
           "Uber's Credit Card Is Bankrupting Restaurants... and It's All Your Fault"
          ],
          [
           "A Quick Starter Guide to Leveraged Trading at BitMEX"
          ],
          [
           "I Made $3 Million in Crypto. These are the 26 Rules I Learned."
          ],
          [
           "The Black-Scholes formula, explained"
          ],
          [
           "You Will Never Be Rich If You Keep Doing These 10 things"
          ],
          [
           "Heroes Give, Superheroes Borrow"
          ],
          [
           "Could Bitcoin's Bull Market End Next Month?"
          ],
          [
           "The Exact Steps I Followed to Make $1,500+ of Passive Income Every Month"
          ],
          [
           "You May Have A Poor Person's Mindset And Not Know It"
          ],
          [
           "A Definitive Guide to Why Life Is So Terrible for Most Millennials"
          ],
          [
           "The Berkshire Hathaway of The Internet"
          ],
          [
           "How to invest in Bitcoin properly. Blockchain and other cryptocurrencies"
          ],
          [
           "Machine learning in finance: Why, what & how"
          ],
          [
           "Minimum Wage Artists"
          ],
          [
           "Richart + @GoGo "
          ],
          [
           "How to store Bitcoins and other cryptocurrencies properly."
          ],
          [
           "I was wrong about Ethereum"
          ],
          [
           "Deep Learning the Stock Market"
          ],
          [
           "Financial Fridays: It's Financial Suicide To Own A House"
          ],
          [
           "Gauge Theory Does Not Fix This"
          ],
          [
           "High Frequency Trading on the Coinbase Exchange"
          ],
          [
           "A $1000 Bitcoin Investment Won't Make You Rich"
          ],
          [
           "How To Legally Own Another Person"
          ],
          [
           "5 Things NOT to Do in the Robinhood App for Stock Trading"
          ],
          [
           "The One Word That Explains Why Economics Professors Are Not Billionaires"
          ],
          [
           "Building your credit history"
          ],
          [
           "I Retired at 35  Here Are 5 Lessons from My First 6 Months of Freedom"
          ],
          [
           "Why you should never use Upwork, ever."
          ],
          [
           "Facebook Can't Be Fixed."
          ],
          [
           "A comprehensive guide to downloading stock prices in Python"
          ],
          [
           "Detecting Credit Card Fraud Using Machine Learning"
          ],
          [
           "2018  & : KOKO COMBO icash "
          ],
          [
           "Is Wealthfront Worth it?"
          ],
          [
           "How I Slowly Became A \"Middle-Class\" Millionaire"
          ],
          [
           "SPY vs. QQQ: Investing in Different Indexes"
          ],
          [
           "I Won $104 Million for Blowing the Whistle on My CompanyBut Somehow I Was the Only One Who Went to Jail"
          ],
          [
           "Robinhood Lends \"Your\" Shares to Short Sellers (and Keeps All the Proceeds)"
          ],
          [
           "The Secret to Making 2000% in Stocks Overnight, the Anavex story."
          ],
          [
           "4 Unusual Side Hustles I Do to Earn an Extra $1,500 a Month"
          ],
          [
           "Meet 'Spoofy'. How a Single entity dominates the price of Bitcoin."
          ],
          [
           "How I Started Saving a TON of Money."
          ],
          [
           "How I transformed $6,000 to $3,000,000"
          ],
          [
           "Cliff Asness on Marvel vs. DC and Why Never to Share a Gym with Cirque du Soleil (Ep. 5  Live at Mason)"
          ],
          [
           "Paypal froze our funds, then offered us a business loan"
          ],
          [
           "A Visual Explanation of Algorithmic Stablecoins"
          ],
          [
           "Algorithmic Trading Bot: Python"
          ],
          [
           "Chernobyl's Blown Up Reactor 4 Just Woke Up"
          ],
          [
           "The Unexpected Case of the Disappearing Flu"
          ],
          [
           "The Diet & Workout Plan of a Full-Time Traveling Family  HIS"
          ],
          [
           "The Cult of Work You Never Meant to Join"
          ],
          [
           "5 Things to do in the First 24 Hours of a Cold or Flu"
          ],
          [
           "The Sweet Spot for Intermittent Fasting"
          ],
          [
           "The 6 Types of ICU Nurse"
          ],
          [
           "How to biohack your intelligence  with everything from sex to modafinil to MDMA"
          ],
          [
           "8 Common Arguments Against Vaccines"
          ],
          [
           "A Reasonably Detailed Guide to Optimizing Your iPhone for Productivity, Focus and Your Own Health"
          ],
          [
           "The cure for type 2 diabetes is known, but few are aware"
          ],
          [
           "Face mapping: how to deal with acne like a true detective"
          ],
          [
           "I'm 32 and spent $200k on biohacking. Became calmer, thinner, extroverted, healthier & happier."
          ],
          [
           "I need more iron"
          ],
          [
           "What I Learned From Quitting Coffee After 15 Years Of Daily Consumption"
          ],
          [
           "The forgotten art of untucking the tail"
          ],
          [
           "Hip Replacement Isn't What It Used To Be 12 Weeks Ago"
          ],
          [
           "Coronavirus: Why You Must Act Now"
          ],
          [
           "Manufacturers have been using nanotechnology-derived graphene in face masks  now there are safety concerns"
          ],
          [
           "Eben Byers: The Man Who Drank Radioactive Water Until His Jaw Fell Off"
          ],
          [
           "My Intermittent Fasting Lifestyle: How I Dropped 50 Pounds"
          ],
          [
           "I Stopped Drinking for 30 Days. Here's What Happened."
          ],
          [
           "How to lose 10+ pounds of fat a month- even if you have a slow metabolism"
          ],
          [
           "If You're Buying Your Weed Solely Based on the THC Level, You're Doing it Wrong."
          ],
          [
           "2016 Is Not Killing People"
          ],
          [
           "How I Learned to Sleep Only Three Hours Per Night (and Why You Should Too)"
          ],
          [
           "I fasted for 11 days, here is what happened."
          ],
          [
           "Coronavirus: The Hammer and the Dance"
          ],
          [
           "What Happens in Your Body When You Quit Drinking"
          ],
          [
           "The Science Behind Fat Metabolism"
          ],
          [
           "The Easiest Way to Lose 125 Pounds Is to Gain 175 Pounds"
          ],
          [
           "7 things I did to reboot my life."
          ],
          [
           "How I lost 10kg in 60 days: My 7-step weight loss plan"
          ],
          [
           "The Foo Fighters' AIDS denialism should be on the record"
          ],
          [
           "The Uncut History of Male Circumcision"
          ],
          [
           "10 Things You Can Do This Morning To Heal Your Anxiety"
          ],
          [
           "I just lost 100 pounds. Here's whyalmost nobody else will!"
          ],
          [
           "Type 2 Diabetes Reversal  The Quick Start Guide"
          ],
          [
           "How a 22 Day Water Fast Changed My Life"
          ],
          [
           "Breaking Your Fast"
          ],
          [
           "11 Unusual Tips for How to Wake Up Early"
          ],
          [
           "The 3 Biggest Mistakes Women Make On The Ketogenic Diet (And How To Fix Them)"
          ]
         ],
         "hovertemplate": "C1=%{x}<br>C2=%{y}<br>TITLE=%{customdata[0]}<extra></extra>",
         "legendgroup": "",
         "marker": {
          "color": "#636efa",
          "symbol": "circle"
         },
         "mode": "markers",
         "name": "",
         "orientation": "v",
         "showlegend": false,
         "type": "scatter",
         "x": {
          "bdata": "5X8xwei+icGw6djA821owb4r1sAGaEXBNMmnwCFdqcA5nR/BfnjFPSe7gcFdEQ/BEwWFPfL2aMCPVJnAK3g7wL7HJcBNtlnAWjpywRvyUsHZhRvA118gwStOwT+Y5BG9CafVwNjyJMEabmLBHAG7wDIrGMGLaKPAZ/hcQB58kMGpdxfAy7vBP5WPIkBYcEXBzAIJwH+AosA9QVXBbU08wQlmdME5YEbAS4c5wXYykMBE5aLA3icIvysKLkBFUobA4QuLPw0KZsEBOhvB6IA+wfTAwsBBLqvANvMzwU2uD8ELbKK/eAVMwV6XCcFuk3zBtLmIwRfXvL2kV9c/+rUQwSBjHsEVbTnBtCgXv58WYsFChrHAtHgswIZIXb86X37AsRRVwf5AGMHUaK3AJ3J0wYQXgcE+Ah/BT7G5wEykY8DuQYbA3/8jwXOM1cANMJfAv69kwcnEDcCa4y3ADXqSwDGQjsGUgABATrrBP1F/EUAxISPBlLYfwQvBub+wRQPBj8MjwYWI2MBmf0/Br5fowG5jNsERYtY/AxdwP9y7NMGRiSxATgl+QB5T4kBotHdATL2tQG5+I0BFegxBCT6fv4AeVMGIyc0/lmFuvyUEkECSdfVAqt4OwH3FO0Ff803AdF8TQQWbeT/Y3QVA9vSawKoBtkC4S7FAQhhMQKUUskDZI6pAYBv9QJIfUT+1HEFAwoG3wH73CkG956ZAXQAfQJ5Rj0Czso/AK2DtQNOsskBd9VO/+KdRQBOLWEDIxhvATL6UQGg7ocD7S8hAFUktQWt6r794harAXAlVwewIl0BsXuE/ePHgQK+fqj4ksBNBiCM0wMdc57/QvxZB3GyiPyPulEA5iB/AnYwoQMSgnsA77/hA3sanwFv95UCyx8hAeZA/Qe6hJ0GzludAhreAQSI0TUEtfBpBJ209QUj2y0CIbHVB+sKMQYR5IEE5+RhBwfOZQeqJNkHnTVNByZo1QUqTz0AufXRBigVvQZdjkkE/FV9B9I7uQExibUEUgBhB+ORrQeWBNkGXAo5BxaRlQRPSRUFl4zxBrhNQQdlUaEFhNg5BRvQhQcdgS0Fg74VBzu9wQa6ae0HO7iJBCrBgQQ==",
          "dtype": "f4"
         },
         "xaxis": "x",
         "y": {
          "bdata": "4uL7wPOlKcHbasrAgkK1wESEQsEh+IXBmvGBQPUkT8HJmXxAxuAxwZMBQsBgNBLBtpoQwdgDEDyJtQDBZUElwfY3S8F/KFnAEo9QwXt48sBoCYfBBPYdwdcna0C+q9DA/toIwY97ZcC08jPBLEVOweIKTUB0IIY/fogSwXIYQ8AnGbE/WqIlwUM3NcFs9iFBw3wlvyDFeMG6XgVBmiECQeOfBsHO0ChArZNzQPyqLEFMPNLAVIgRwa3YLsFI5DvBZwBowVEhpsB/A7nA2joNQd8+1MBDlHlAYZHUwI1C8cC7Tfk/mfcPwZOShsHi1tjA64biwObVR8GCy0TBCZGFwRjYQsHVbH7Bgmycv9wVlcBJ2f8/UpGZP5rZV8HxJZQ/NqwJQTJ44MD05R/B97FTwfL2EcE7w8G/QFvgvhJ+fcA3OKC/GimrwCDW4z/UGFHB260VwU0f7sCj1/zAER6BwSwnRsAAfzfA/WRtQEXcUMB49YlAV+ZHwUxrRT8si9VAsltOwERuw78ZUhLBTmSaPxoFd8Hv5QnB1uBPwXrTJMHWL1NB7kaHQcncCEFhBdpAiPCiQRmAIkEppJ1BQltOQTRDcb/9dRhBTe6PQenIS0FoiVFBYRhRQSNcUkFk6BZBkUJ2QfqhckHGKHJB0kREQaqSJEE1xV1BfWiBQaEqAUGxwkBB3GMhQZRFR0FJzo5Bw5PPv3efC0GmMzRAwLiXQR0RlkEKSSzB9nZHQfPdgkGaoI9B2OiEQWJNBEGhiUpBbFs2QXYfj0F1YxpBkr04Qc3zCUG9RxFB9TILwId0N0D2rytBwMswQaorIUGRSFBBKNVhQayKKUHVqChBhJuFQcK3HUGu2TFB05g1QXDyjEHf+JtBkfAoQREQwsBZ0iS/XHilv0PyMECp9p6/bdJgwL9OjEBxGJY/PCMMQfLQL0D/SRXAq0G1QNEhrD4hmZ5B20kaQLaKL8Dcg2FA1NjfQIbF1MBS5TRARqYPPSzdDkC1Epu/toikQM+D/EBd2iVACszdP3FU5UAAkfw/pFpPwBsTnT/EcwtAEU6sv0HU8kDfBla/fHuQQCsEO77AlfS/VzNGPwcunr1HCXJA+kZtwA==",
          "dtype": "f4"
         },
         "yaxis": "y"
        }
       ],
       "layout": {
        "legend": {
         "tracegroupgap": 0
        },
        "template": {
         "data": {
          "bar": [
           {
            "error_x": {
             "color": "#2a3f5f"
            },
            "error_y": {
             "color": "#2a3f5f"
            },
            "marker": {
             "line": {
              "color": "#E5ECF6",
              "width": 0.5
             },
             "pattern": {
              "fillmode": "overlay",
              "size": 10,
              "solidity": 0.2
             }
            },
            "type": "bar"
           }
          ],
          "barpolar": [
           {
            "marker": {
             "line": {
              "color": "#E5ECF6",
              "width": 0.5
             },
             "pattern": {
              "fillmode": "overlay",
              "size": 10,
              "solidity": 0.2
             }
            },
            "type": "barpolar"
           }
          ],
          "carpet": [
           {
            "aaxis": {
             "endlinecolor": "#2a3f5f",
             "gridcolor": "white",
             "linecolor": "white",
             "minorgridcolor": "white",
             "startlinecolor": "#2a3f5f"
            },
            "baxis": {
             "endlinecolor": "#2a3f5f",
             "gridcolor": "white",
             "linecolor": "white",
             "minorgridcolor": "white",
             "startlinecolor": "#2a3f5f"
            },
            "type": "carpet"
           }
          ],
          "choropleth": [
           {
            "colorbar": {
             "outlinewidth": 0,
             "ticks": ""
            },
            "type": "choropleth"
           }
          ],
          "contour": [
           {
            "colorbar": {
             "outlinewidth": 0,
             "ticks": ""
            },
            "colorscale": [
             [
              0,
              "#0d0887"
             ],
             [
              0.1111111111111111,
              "#46039f"
             ],
             [
              0.2222222222222222,
              "#7201a8"
             ],
             [
              0.3333333333333333,
              "#9c179e"
             ],
             [
              0.4444444444444444,
              "#bd3786"
             ],
             [
              0.5555555555555556,
              "#d8576b"
             ],
             [
              0.6666666666666666,
              "#ed7953"
             ],
             [
              0.7777777777777778,
              "#fb9f3a"
             ],
             [
              0.8888888888888888,
              "#fdca26"
             ],
             [
              1,
              "#f0f921"
             ]
            ],
            "type": "contour"
           }
          ],
          "contourcarpet": [
           {
            "colorbar": {
             "outlinewidth": 0,
             "ticks": ""
            },
            "type": "contourcarpet"
           }
          ],
          "heatmap": [
           {
            "colorbar": {
             "outlinewidth": 0,
             "ticks": ""
            },
            "colorscale": [
             [
              0,
              "#0d0887"
             ],
             [
              0.1111111111111111,
              "#46039f"
             ],
             [
              0.2222222222222222,
              "#7201a8"
             ],
             [
              0.3333333333333333,
              "#9c179e"
             ],
             [
              0.4444444444444444,
              "#bd3786"
             ],
             [
              0.5555555555555556,
              "#d8576b"
             ],
             [
              0.6666666666666666,
              "#ed7953"
             ],
             [
              0.7777777777777778,
              "#fb9f3a"
             ],
             [
              0.8888888888888888,
              "#fdca26"
             ],
             [
              1,
              "#f0f921"
             ]
            ],
            "type": "heatmap"
           }
          ],
          "histogram": [
           {
            "marker": {
             "pattern": {
              "fillmode": "overlay",
              "size": 10,
              "solidity": 0.2
             }
            },
            "type": "histogram"
           }
          ],
          "histogram2d": [
           {
            "colorbar": {
             "outlinewidth": 0,
             "ticks": ""
            },
            "colorscale": [
             [
              0,
              "#0d0887"
             ],
             [
              0.1111111111111111,
              "#46039f"
             ],
             [
              0.2222222222222222,
              "#7201a8"
             ],
             [
              0.3333333333333333,
              "#9c179e"
             ],
             [
              0.4444444444444444,
              "#bd3786"
             ],
             [
              0.5555555555555556,
              "#d8576b"
             ],
             [
              0.6666666666666666,
              "#ed7953"
             ],
             [
              0.7777777777777778,
              "#fb9f3a"
             ],
             [
              0.8888888888888888,
              "#fdca26"
             ],
             [
              1,
              "#f0f921"
             ]
            ],
            "type": "histogram2d"
           }
          ],
          "histogram2dcontour": [
           {
            "colorbar": {
             "outlinewidth": 0,
             "ticks": ""
            },
            "colorscale": [
             [
              0,
              "#0d0887"
             ],
             [
              0.1111111111111111,
              "#46039f"
             ],
             [
              0.2222222222222222,
              "#7201a8"
             ],
             [
              0.3333333333333333,
              "#9c179e"
             ],
             [
              0.4444444444444444,
              "#bd3786"
             ],
             [
              0.5555555555555556,
              "#d8576b"
             ],
             [
              0.6666666666666666,
              "#ed7953"
             ],
             [
              0.7777777777777778,
              "#fb9f3a"
             ],
             [
              0.8888888888888888,
              "#fdca26"
             ],
             [
              1,
              "#f0f921"
             ]
            ],
            "type": "histogram2dcontour"
           }
          ],
          "mesh3d": [
           {
            "colorbar": {
             "outlinewidth": 0,
             "ticks": ""
            },
            "type": "mesh3d"
           }
          ],
          "parcoords": [
           {
            "line": {
             "colorbar": {
              "outlinewidth": 0,
              "ticks": ""
             }
            },
            "type": "parcoords"
           }
          ],
          "pie": [
           {
            "automargin": true,
            "type": "pie"
           }
          ],
          "scatter": [
           {
            "fillpattern": {
             "fillmode": "overlay",
             "size": 10,
             "solidity": 0.2
            },
            "type": "scatter"
           }
          ],
          "scatter3d": [
           {
            "line": {
             "colorbar": {
              "outlinewidth": 0,
              "ticks": ""
             }
            },
            "marker": {
             "colorbar": {
              "outlinewidth": 0,
              "ticks": ""
             }
            },
            "type": "scatter3d"
           }
          ],
          "scattercarpet": [
           {
            "marker": {
             "colorbar": {
              "outlinewidth": 0,
              "ticks": ""
             }
            },
            "type": "scattercarpet"
           }
          ],
          "scattergeo": [
           {
            "marker": {
             "colorbar": {
              "outlinewidth": 0,
              "ticks": ""
             }
            },
            "type": "scattergeo"
           }
          ],
          "scattergl": [
           {
            "marker": {
             "colorbar": {
              "outlinewidth": 0,
              "ticks": ""
             }
            },
            "type": "scattergl"
           }
          ],
          "scattermap": [
           {
            "marker": {
             "colorbar": {
              "outlinewidth": 0,
              "ticks": ""
             }
            },
            "type": "scattermap"
           }
          ],
          "scattermapbox": [
           {
            "marker": {
             "colorbar": {
              "outlinewidth": 0,
              "ticks": ""
             }
            },
            "type": "scattermapbox"
           }
          ],
          "scatterpolar": [
           {
            "marker": {
             "colorbar": {
              "outlinewidth": 0,
              "ticks": ""
             }
            },
            "type": "scatterpolar"
           }
          ],
          "scatterpolargl": [
           {
            "marker": {
             "colorbar": {
              "outlinewidth": 0,
              "ticks": ""
             }
            },
            "type": "scatterpolargl"
           }
          ],
          "scatterternary": [
           {
            "marker": {
             "colorbar": {
              "outlinewidth": 0,
              "ticks": ""
             }
            },
            "type": "scatterternary"
           }
          ],
          "surface": [
           {
            "colorbar": {
             "outlinewidth": 0,
             "ticks": ""
            },
            "colorscale": [
             [
              0,
              "#0d0887"
             ],
             [
              0.1111111111111111,
              "#46039f"
             ],
             [
              0.2222222222222222,
              "#7201a8"
             ],
             [
              0.3333333333333333,
              "#9c179e"
             ],
             [
              0.4444444444444444,
              "#bd3786"
             ],
             [
              0.5555555555555556,
              "#d8576b"
             ],
             [
              0.6666666666666666,
              "#ed7953"
             ],
             [
              0.7777777777777778,
              "#fb9f3a"
             ],
             [
              0.8888888888888888,
              "#fdca26"
             ],
             [
              1,
              "#f0f921"
             ]
            ],
            "type": "surface"
           }
          ],
          "table": [
           {
            "cells": {
             "fill": {
              "color": "#EBF0F8"
             },
             "line": {
              "color": "white"
             }
            },
            "header": {
             "fill": {
              "color": "#C8D4E3"
             },
             "line": {
              "color": "white"
             }
            },
            "type": "table"
           }
          ]
         },
         "layout": {
          "annotationdefaults": {
           "arrowcolor": "#2a3f5f",
           "arrowhead": 0,
           "arrowwidth": 1
          },
          "autotypenumbers": "strict",
          "coloraxis": {
           "colorbar": {
            "outlinewidth": 0,
            "ticks": ""
           }
          },
          "colorscale": {
           "diverging": [
            [
             0,
             "#8e0152"
            ],
            [
             0.1,
             "#c51b7d"
            ],
            [
             0.2,
             "#de77ae"
            ],
            [
             0.3,
             "#f1b6da"
            ],
            [
             0.4,
             "#fde0ef"
            ],
            [
             0.5,
             "#f7f7f7"
            ],
            [
             0.6,
             "#e6f5d0"
            ],
            [
             0.7,
             "#b8e186"
            ],
            [
             0.8,
             "#7fbc41"
            ],
            [
             0.9,
             "#4d9221"
            ],
            [
             1,
             "#276419"
            ]
           ],
           "sequential": [
            [
             0,
             "#0d0887"
            ],
            [
             0.1111111111111111,
             "#46039f"
            ],
            [
             0.2222222222222222,
             "#7201a8"
            ],
            [
             0.3333333333333333,
             "#9c179e"
            ],
            [
             0.4444444444444444,
             "#bd3786"
            ],
            [
             0.5555555555555556,
             "#d8576b"
            ],
            [
             0.6666666666666666,
             "#ed7953"
            ],
            [
             0.7777777777777778,
             "#fb9f3a"
            ],
            [
             0.8888888888888888,
             "#fdca26"
            ],
            [
             1,
             "#f0f921"
            ]
           ],
           "sequentialminus": [
            [
             0,
             "#0d0887"
            ],
            [
             0.1111111111111111,
             "#46039f"
            ],
            [
             0.2222222222222222,
             "#7201a8"
            ],
            [
             0.3333333333333333,
             "#9c179e"
            ],
            [
             0.4444444444444444,
             "#bd3786"
            ],
            [
             0.5555555555555556,
             "#d8576b"
            ],
            [
             0.6666666666666666,
             "#ed7953"
            ],
            [
             0.7777777777777778,
             "#fb9f3a"
            ],
            [
             0.8888888888888888,
             "#fdca26"
            ],
            [
             1,
             "#f0f921"
            ]
           ]
          },
          "colorway": [
           "#636efa",
           "#EF553B",
           "#00cc96",
           "#ab63fa",
           "#FFA15A",
           "#19d3f3",
           "#FF6692",
           "#B6E880",
           "#FF97FF",
           "#FECB52"
          ],
          "font": {
           "color": "#2a3f5f"
          },
          "geo": {
           "bgcolor": "white",
           "lakecolor": "white",
           "landcolor": "#E5ECF6",
           "showlakes": true,
           "showland": true,
           "subunitcolor": "white"
          },
          "hoverlabel": {
           "align": "left"
          },
          "hovermode": "closest",
          "mapbox": {
           "style": "light"
          },
          "paper_bgcolor": "white",
          "plot_bgcolor": "#E5ECF6",
          "polar": {
           "angularaxis": {
            "gridcolor": "white",
            "linecolor": "white",
            "ticks": ""
           },
           "bgcolor": "#E5ECF6",
           "radialaxis": {
            "gridcolor": "white",
            "linecolor": "white",
            "ticks": ""
           }
          },
          "scene": {
           "xaxis": {
            "backgroundcolor": "#E5ECF6",
            "gridcolor": "white",
            "gridwidth": 2,
            "linecolor": "white",
            "showbackground": true,
            "ticks": "",
            "zerolinecolor": "white"
           },
           "yaxis": {
            "backgroundcolor": "#E5ECF6",
            "gridcolor": "white",
            "gridwidth": 2,
            "linecolor": "white",
            "showbackground": true,
            "ticks": "",
            "zerolinecolor": "white"
           },
           "zaxis": {
            "backgroundcolor": "#E5ECF6",
            "gridcolor": "white",
            "gridwidth": 2,
            "linecolor": "white",
            "showbackground": true,
            "ticks": "",
            "zerolinecolor": "white"
           }
          },
          "shapedefaults": {
           "line": {
            "color": "#2a3f5f"
           }
          },
          "ternary": {
           "aaxis": {
            "gridcolor": "white",
            "linecolor": "white",
            "ticks": ""
           },
           "baxis": {
            "gridcolor": "white",
            "linecolor": "white",
            "ticks": ""
           },
           "bgcolor": "#E5ECF6",
           "caxis": {
            "gridcolor": "white",
            "linecolor": "white",
            "ticks": ""
           }
          },
          "title": {
           "x": 0.05
          },
          "xaxis": {
           "automargin": true,
           "gridcolor": "white",
           "linecolor": "white",
           "ticks": "",
           "title": {
            "standoff": 15
           },
           "zerolinecolor": "white",
           "zerolinewidth": 2
          },
          "yaxis": {
           "automargin": true,
           "gridcolor": "white",
           "linecolor": "white",
           "ticks": "",
           "title": {
            "standoff": 15
           },
           "zerolinecolor": "white",
           "zerolinewidth": 2
          }
         }
        },
        "title": {
         "text": "T-distributed Stochastic Neighbor Embedding for TFIDF document representation"
        },
        "xaxis": {
         "anchor": "y",
         "domain": [
          0,
          1
         ],
         "title": {
          "text": "C1"
         }
        },
        "yaxis": {
         "anchor": "x",
         "domain": [
          0,
          1
         ],
         "title": {
          "text": "C2"
         }
        }
       }
      }
     },
     "metadata": {},
     "output_type": "display_data"
    }
   ],
   "source": [
    "import plotly.express as px\n",
    "# scatter plot of t-sne for the BOW representation\n",
    "\n",
    "title = \"T-distributed Stochastic Neighbor Embedding for TFIDF document representation\"\n",
    "\n",
    "fig = px.scatter(tsne_tfidf_features_df, x=\"C1\", y=\"C2\", hover_data=['TITLE'], title=title)\n",
    "fig.show()"
   ]
  },
  {
   "cell_type": "code",
   "execution_count": 51,
   "metadata": {},
   "outputs": [],
   "source": [
    "from sklearn.metrics.pairwise import cosine_similarity\n",
    "\n",
    "def get_similar_documents(all_article_rep_df, article_id, features):\n",
    "    this_article_rep = all_article_rep_df[all_article_rep_df['ID']==article_id][features]\n",
    "    other_article_rep = all_article_rep_df[all_article_rep_df['ID']!=article_id][features]\n",
    "\n",
    "    similarity_matrix =   cosine_similarity(this_article_rep, other_article_rep)\n",
    "    similar_articles = list(zip(similarity_matrix[0].tolist(), all_article_rep_df[\"TITLE\"].tolist()))\n",
    "    similar_articles = sorted(similar_articles, key = lambda x : x[0], reverse = True)\n",
    "    print(\"Reference Article : {}\".format(all_article_rep_df[all_article_rep_df[\"ID\"] == article_id][\"TITLE\"].values[0]))\n",
    "\n",
    "    print(\"**** Similar Articles ****\")\n",
    "    for score, title in similar_articles[:5]:\n",
    "        print(title)\n",
    "    print()\n",
    "\n"
   ]
  },
  {
   "cell_type": "code",
   "execution_count": 52,
   "metadata": {},
   "outputs": [
    {
     "name": "stdout",
     "output_type": "stream",
     "text": [
      "Reference Article : 17 types of similarity and dissimilarity measures used in data science.\n",
      "**** Similar Articles ****\n",
      "9 Distance Measures in Data Science\n",
      "17 Clustering Algorithms Used In Data Science and Mining\n",
      "Machine Learning Basics with the K-Nearest Neighbors Algorithm\n",
      "OVER 100 Data Scientist Interview Questions and Answers!\n",
      "Fundamental Techniques of Feature Engineering for Machine Learning\n",
      "\n"
     ]
    }
   ],
   "source": [
    "get_similar_documents(tfidf_features_df, 90, tfidf_vectorizer.get_feature_names_out())"
   ]
  },
  {
   "cell_type": "markdown",
   "metadata": {},
   "source": [
    "**END**"
   ]
  },
  {
   "cell_type": "markdown",
   "metadata": {},
   "source": []
  }
 ],
 "metadata": {
  "kernelspec": {
   "display_name": "qna",
   "language": "python",
   "name": "python3"
  },
  "language_info": {
   "codemirror_mode": {
    "name": "ipython",
    "version": 3
   },
   "file_extension": ".py",
   "mimetype": "text/x-python",
   "name": "python",
   "nbconvert_exporter": "python",
   "pygments_lexer": "ipython3",
   "version": "3.9.20"
  }
 },
 "nbformat": 4,
 "nbformat_minor": 2
}
